{
 "cells": [
  {
   "cell_type": "markdown",
   "id": "001c3579",
   "metadata": {},
   "source": [
    "# Model"
   ]
  },
  {
   "cell_type": "code",
   "execution_count": 21,
   "id": "534644d7",
   "metadata": {},
   "outputs": [],
   "source": [
    "import warnings\n",
    "warnings.filterwarnings(\"ignore\")\n",
    "import pandas as pd\n",
    "import numpy as np\n",
    "from sklearn.model_selection import train_test_split\n",
    "from sklearn.impute import KNNImputer\n",
    "from sklearn.preprocessing import OneHotEncoder\n",
    "from sklearn.compose import make_column_selector as selector\n",
    "from sklearn.compose import ColumnTransformer\n",
    "from sklearn.linear_model import LogisticRegression\n",
    "from sklearn.ensemble import RandomForestClassifier\n",
    "from sklearn.ensemble import AdaBoostClassifier\n",
    "import xgboost as xgb\n",
    "from sklearn.naive_bayes import GaussianNB\n",
    "from sklearn.naive_bayes import BernoulliNB\n",
    "from sklearn.ensemble import GradientBoostingClassifier\n",
    "from sklearn.model_selection import GridSearchCV\n",
    "from sklearn.metrics import roc_auc_score\n",
    "from sklearn.decomposition import PCA\n",
    "from sklearn.preprocessing import StandardScaler\n",
    "from sklearn.svm import SVC\n",
    "from sklearn.svm import LinearSVC\n",
    "from sklearn.tree import DecisionTreeClassifier\n",
    "from sklearn.pipeline import Pipeline\n",
    "from sklearn.impute import SimpleImputer"
   ]
  },
  {
   "cell_type": "markdown",
   "id": "78b54fc3",
   "metadata": {},
   "source": [
    "## Import merged data: "
   ]
  },
  {
   "cell_type": "code",
   "execution_count": 33,
   "id": "25cfd846",
   "metadata": {},
   "outputs": [],
   "source": [
    "X_train=pd.read_csv(\"X_train.csv\")\n",
    "y_train=pd.read_csv(\"y_train.csv\")\n",
    "X_test=pd.read_csv(\"X_test.csv\")\n",
    "y_test=pd.read_csv(\"y_test.csv\")"
   ]
  },
  {
   "cell_type": "markdown",
   "id": "decef804",
   "metadata": {},
   "source": [
    "##  Data Processing:"
   ]
  },
  {
   "cell_type": "code",
   "execution_count": 34,
   "id": "8dd0ac52",
   "metadata": {},
   "outputs": [],
   "source": [
    "from sklearn.impute import KNNImputer\n",
    "from sklearn.feature_selection import RFE\n",
    "from sklearn.compose import ColumnTransformer\n",
    "from sklearn.preprocessing import OneHotEncoder\n",
    "from sklearn.impute import SimpleImputer\n",
    "from sklearn.pipeline import Pipeline\n",
    "import lightgbm as lgb"
   ]
  },
  {
   "cell_type": "code",
   "execution_count": 35,
   "id": "76518dac",
   "metadata": {},
   "outputs": [],
   "source": [
    "numerics = ['int16', 'int32', 'int64', 'float16', 'float32', 'float64']\n",
    "num_df2 = X_train2.select_dtypes(include=numerics)\n",
    "num_col2=num_df2.columns\n",
    "num_col2\n",
    "\n",
    "numerics = ['int16', 'int32', 'int64', 'float16', 'float32', 'float64']\n",
    "num_df = X_train.select_dtypes(include=numerics)\n",
    "num_col=num_df.columns\n"
   ]
  },
  {
   "cell_type": "code",
   "execution_count": 36,
   "id": "576ac100",
   "metadata": {},
   "outputs": [],
   "source": [
    "numerics = ['int16', 'int32', 'int64', 'float16', 'float32', 'float64']\n",
    "col_2 = X_train2.select_dtypes(exclude=numerics)\n",
    "col2=col_2.columns\n"
   ]
  },
  {
   "cell_type": "code",
   "execution_count": 37,
   "id": "8ef79838",
   "metadata": {},
   "outputs": [],
   "source": [
    "keep2=[\"NAME_CONTRACT_TYPE\",\"CODE_GENDER\",\"FLAG_OWN_CAR\",\"FLAG_OWN_REALTY\"]\n",
    "keep5=[\"NAME_FAMILY_STATUS\"]\n",
    "rest=[]\n",
    "for i in cat_col:\n",
    "    if (i not in keep2 ) and (i not in keep5):\n",
    "        rest+=[i]\n"
   ]
  },
  {
   "cell_type": "code",
   "execution_count": 38,
   "id": "b7cef223",
   "metadata": {},
   "outputs": [],
   "source": [
    "pre_col = ColumnTransformer(\n",
    "    remainder=\"passthrough\",\n",
    "    transformers=[('imputer', SimpleImputer(missing_values=np.nan, strategy='mean'),num_col),\n",
    "                  ('ohe_2',OneHotEncoder(max_categories=2,handle_unknown='ignore', dtype='int'),keep2),\n",
    "                  (\"ohe_5\",OneHotEncoder(max_categories=5,handle_unknown='ignore', dtype='int'),keep5),\n",
    "                  (\"ohe_rest\",OneHotEncoder(handle_unknown='ignore', dtype='int'),rest)\n",
    "                 ])\n",
    "\n",
    "pre_col_2 = ColumnTransformer(\n",
    "    remainder=\"passthrough\",\n",
    "    transformers=[('imputer', SimpleImputer(missing_values=np.nan, strategy='mean'),num_col2),\n",
    "                  (\"ohe_rest\",OneHotEncoder(handle_unknown='ignore', dtype='int'),col2)\n",
    "                 ])"
   ]
  },
  {
   "cell_type": "markdown",
   "id": "eb679859",
   "metadata": {},
   "source": [
    "## Data2"
   ]
  },
  {
   "cell_type": "code",
   "execution_count": 39,
   "id": "a87aba1a",
   "metadata": {},
   "outputs": [],
   "source": [
    "X_train2=pd.read_csv(\"X_train_new.csv\")\n",
    "X_test2=pd.read_csv(\"X_test_new.csv\")"
   ]
  },
  {
   "cell_type": "markdown",
   "id": "e5dca478",
   "metadata": {},
   "source": [
    "## Manual merge EXPORT"
   ]
  },
  {
   "cell_type": "code",
   "execution_count": 429,
   "id": "54506fd5",
   "metadata": {},
   "outputs": [],
   "source": [
    "grace_train=pd.DataFrame()\n",
    "grace_pred=pd.DataFrame()"
   ]
  },
  {
   "cell_type": "markdown",
   "id": "a8c87869",
   "metadata": {},
   "source": [
    "## LightGBM: "
   ]
  },
  {
   "cell_type": "code",
   "execution_count": 40,
   "id": "5662e28b",
   "metadata": {},
   "outputs": [],
   "source": [
    "from sklearn.linear_model import LogisticRegression\n",
    "from sklearn.preprocessing import StandardScaler\n",
    "from sklearn.preprocessing import QuantileTransformer\n",
    "import lightgbm as lgb"
   ]
  },
  {
   "cell_type": "code",
   "execution_count": null,
   "id": "57bb034a",
   "metadata": {},
   "outputs": [],
   "source": [
    "# gird search results:\n",
    "\n",
    "#{'lgb__class_weight': {0: 1, 1: 9},\n",
    " #'lgb__learning_rate': 0.06,\n",
    " #'lgb__max_depth': 17,\n",
    " #'lgb__n_estimators': 150,\n",
    " #'lgb__num_leaves': 25}\n",
    "\n",
    "#{'lgb__class_weight': {0: 0.08, 1: 0.92},\n",
    " #'lgb__learning_rate': 0.06,\n",
    " #'lgb__max_depth': 14,\n",
    " #'lgb__n_estimators': 200,\n",
    " #'lgb__num_leaves': 15}\n",
    "\n",
    "#{'lgb__class_weight': {0: 0.08, 1: 0.92},\n",
    "# 'lgb__learning_rate': 0.06,\n",
    "# 'lgb__max_depth': 14,\n",
    "# 'lgb__n_estimators': 200,\n",
    "# 'lgb__num_leaves': 15}\n",
    "\n",
    "#{'lgb__class_weight': {0: 0.08, 1: 0.92},\n",
    "# 'lgb__learning_rate': 0.06,\n",
    "# 'lgb__max_depth': 10,\n",
    "# 'lgb__n_estimators': 200,\n",
    "# 'lgb__num_leaves': 15}"
   ]
  },
  {
   "cell_type": "code",
   "execution_count": 41,
   "id": "46c09afd",
   "metadata": {
    "scrolled": false
   },
   "outputs": [
    {
     "data": {
      "text/html": [
       "<style>#sk-container-id-1 {color: black;background-color: white;}#sk-container-id-1 pre{padding: 0;}#sk-container-id-1 div.sk-toggleable {background-color: white;}#sk-container-id-1 label.sk-toggleable__label {cursor: pointer;display: block;width: 100%;margin-bottom: 0;padding: 0.3em;box-sizing: border-box;text-align: center;}#sk-container-id-1 label.sk-toggleable__label-arrow:before {content: \"▸\";float: left;margin-right: 0.25em;color: #696969;}#sk-container-id-1 label.sk-toggleable__label-arrow:hover:before {color: black;}#sk-container-id-1 div.sk-estimator:hover label.sk-toggleable__label-arrow:before {color: black;}#sk-container-id-1 div.sk-toggleable__content {max-height: 0;max-width: 0;overflow: hidden;text-align: left;background-color: #f0f8ff;}#sk-container-id-1 div.sk-toggleable__content pre {margin: 0.2em;color: black;border-radius: 0.25em;background-color: #f0f8ff;}#sk-container-id-1 input.sk-toggleable__control:checked~div.sk-toggleable__content {max-height: 200px;max-width: 100%;overflow: auto;}#sk-container-id-1 input.sk-toggleable__control:checked~label.sk-toggleable__label-arrow:before {content: \"▾\";}#sk-container-id-1 div.sk-estimator input.sk-toggleable__control:checked~label.sk-toggleable__label {background-color: #d4ebff;}#sk-container-id-1 div.sk-label input.sk-toggleable__control:checked~label.sk-toggleable__label {background-color: #d4ebff;}#sk-container-id-1 input.sk-hidden--visually {border: 0;clip: rect(1px 1px 1px 1px);clip: rect(1px, 1px, 1px, 1px);height: 1px;margin: -1px;overflow: hidden;padding: 0;position: absolute;width: 1px;}#sk-container-id-1 div.sk-estimator {font-family: monospace;background-color: #f0f8ff;border: 1px dotted black;border-radius: 0.25em;box-sizing: border-box;margin-bottom: 0.5em;}#sk-container-id-1 div.sk-estimator:hover {background-color: #d4ebff;}#sk-container-id-1 div.sk-parallel-item::after {content: \"\";width: 100%;border-bottom: 1px solid gray;flex-grow: 1;}#sk-container-id-1 div.sk-label:hover label.sk-toggleable__label {background-color: #d4ebff;}#sk-container-id-1 div.sk-serial::before {content: \"\";position: absolute;border-left: 1px solid gray;box-sizing: border-box;top: 0;bottom: 0;left: 50%;z-index: 0;}#sk-container-id-1 div.sk-serial {display: flex;flex-direction: column;align-items: center;background-color: white;padding-right: 0.2em;padding-left: 0.2em;position: relative;}#sk-container-id-1 div.sk-item {position: relative;z-index: 1;}#sk-container-id-1 div.sk-parallel {display: flex;align-items: stretch;justify-content: center;background-color: white;position: relative;}#sk-container-id-1 div.sk-item::before, #sk-container-id-1 div.sk-parallel-item::before {content: \"\";position: absolute;border-left: 1px solid gray;box-sizing: border-box;top: 0;bottom: 0;left: 50%;z-index: -1;}#sk-container-id-1 div.sk-parallel-item {display: flex;flex-direction: column;z-index: 1;position: relative;background-color: white;}#sk-container-id-1 div.sk-parallel-item:first-child::after {align-self: flex-end;width: 50%;}#sk-container-id-1 div.sk-parallel-item:last-child::after {align-self: flex-start;width: 50%;}#sk-container-id-1 div.sk-parallel-item:only-child::after {width: 0;}#sk-container-id-1 div.sk-dashed-wrapped {border: 1px dashed gray;margin: 0 0.4em 0.5em 0.4em;box-sizing: border-box;padding-bottom: 0.4em;background-color: white;}#sk-container-id-1 div.sk-label label {font-family: monospace;font-weight: bold;display: inline-block;line-height: 1.2em;}#sk-container-id-1 div.sk-label-container {text-align: center;}#sk-container-id-1 div.sk-container {/* jupyter's `normalize.less` sets `[hidden] { display: none; }` but bootstrap.min.css set `[hidden] { display: none !important; }` so we also need the `!important` here to be able to override the default hidden behavior on the sphinx rendered scikit-learn.org. See: https://github.com/scikit-learn/scikit-learn/issues/21755 */display: inline-block !important;position: relative;}#sk-container-id-1 div.sk-text-repr-fallback {display: none;}</style><div id=\"sk-container-id-1\" class=\"sk-top-container\"><div class=\"sk-text-repr-fallback\"><pre>Pipeline(steps=[(&#x27;pre_col2&#x27;,\n",
       "                 ColumnTransformer(remainder=&#x27;passthrough&#x27;,\n",
       "                                   transformers=[(&#x27;imputer&#x27;, SimpleImputer(),\n",
       "                                                  Index([&#x27;CNT_CHILDREN&#x27;, &#x27;AMT_INCOME_TOTAL&#x27;, &#x27;AMT_CREDIT&#x27;, &#x27;AMT_ANNUITY&#x27;,\n",
       "       &#x27;AMT_GOODS_PRICE&#x27;, &#x27;REGION_POPULATION_RELATIVE&#x27;, &#x27;DAYS_BIRTH&#x27;,\n",
       "       &#x27;DAYS_EMPLOYED&#x27;, &#x27;DAYS_REGISTRATION&#x27;, &#x27;DAYS_ID_PUBLISH&#x27;,\n",
       "       ...\n",
       "       &#x27;NAME_CONTRACT_STATUS_Completed_prev&#x27;, &#x27;NAME_CONTRACT_S...\n",
       "       &#x27;NAME_TYPE_SUITE&#x27;, &#x27;NAME_INCOME_TYPE&#x27;, &#x27;NAME_EDUCATION_TYPE&#x27;,\n",
       "       &#x27;NAME_FAMILY_STATUS&#x27;, &#x27;NAME_HOUSING_TYPE&#x27;, &#x27;OCCUPATION_TYPE&#x27;,\n",
       "       &#x27;WEEKDAY_APPR_PROCESS_START&#x27;, &#x27;ORGANIZATION_TYPE&#x27;, &#x27;FONDKAPREMONT_MODE&#x27;,\n",
       "       &#x27;HOUSETYPE_MODE&#x27;, &#x27;WALLSMATERIAL_MODE&#x27;, &#x27;EMERGENCYSTATE_MODE&#x27;],\n",
       "      dtype=&#x27;object&#x27;))])),\n",
       "                (&#x27;lgb&#x27;,\n",
       "                 LGBMClassifier(class_weight={0: 0.08, 1: 0.92},\n",
       "                                learning_rate=0.06, max_depth=10,\n",
       "                                n_estimators=200, num_leaves=15))])</pre><b>In a Jupyter environment, please rerun this cell to show the HTML representation or trust the notebook. <br />On GitHub, the HTML representation is unable to render, please try loading this page with nbviewer.org.</b></div><div class=\"sk-container\" hidden><div class=\"sk-item sk-dashed-wrapped\"><div class=\"sk-label-container\"><div class=\"sk-label sk-toggleable\"><input class=\"sk-toggleable__control sk-hidden--visually\" id=\"sk-estimator-id-1\" type=\"checkbox\" ><label for=\"sk-estimator-id-1\" class=\"sk-toggleable__label sk-toggleable__label-arrow\">Pipeline</label><div class=\"sk-toggleable__content\"><pre>Pipeline(steps=[(&#x27;pre_col2&#x27;,\n",
       "                 ColumnTransformer(remainder=&#x27;passthrough&#x27;,\n",
       "                                   transformers=[(&#x27;imputer&#x27;, SimpleImputer(),\n",
       "                                                  Index([&#x27;CNT_CHILDREN&#x27;, &#x27;AMT_INCOME_TOTAL&#x27;, &#x27;AMT_CREDIT&#x27;, &#x27;AMT_ANNUITY&#x27;,\n",
       "       &#x27;AMT_GOODS_PRICE&#x27;, &#x27;REGION_POPULATION_RELATIVE&#x27;, &#x27;DAYS_BIRTH&#x27;,\n",
       "       &#x27;DAYS_EMPLOYED&#x27;, &#x27;DAYS_REGISTRATION&#x27;, &#x27;DAYS_ID_PUBLISH&#x27;,\n",
       "       ...\n",
       "       &#x27;NAME_CONTRACT_STATUS_Completed_prev&#x27;, &#x27;NAME_CONTRACT_S...\n",
       "       &#x27;NAME_TYPE_SUITE&#x27;, &#x27;NAME_INCOME_TYPE&#x27;, &#x27;NAME_EDUCATION_TYPE&#x27;,\n",
       "       &#x27;NAME_FAMILY_STATUS&#x27;, &#x27;NAME_HOUSING_TYPE&#x27;, &#x27;OCCUPATION_TYPE&#x27;,\n",
       "       &#x27;WEEKDAY_APPR_PROCESS_START&#x27;, &#x27;ORGANIZATION_TYPE&#x27;, &#x27;FONDKAPREMONT_MODE&#x27;,\n",
       "       &#x27;HOUSETYPE_MODE&#x27;, &#x27;WALLSMATERIAL_MODE&#x27;, &#x27;EMERGENCYSTATE_MODE&#x27;],\n",
       "      dtype=&#x27;object&#x27;))])),\n",
       "                (&#x27;lgb&#x27;,\n",
       "                 LGBMClassifier(class_weight={0: 0.08, 1: 0.92},\n",
       "                                learning_rate=0.06, max_depth=10,\n",
       "                                n_estimators=200, num_leaves=15))])</pre></div></div></div><div class=\"sk-serial\"><div class=\"sk-item sk-dashed-wrapped\"><div class=\"sk-label-container\"><div class=\"sk-label sk-toggleable\"><input class=\"sk-toggleable__control sk-hidden--visually\" id=\"sk-estimator-id-2\" type=\"checkbox\" ><label for=\"sk-estimator-id-2\" class=\"sk-toggleable__label sk-toggleable__label-arrow\">pre_col2: ColumnTransformer</label><div class=\"sk-toggleable__content\"><pre>ColumnTransformer(remainder=&#x27;passthrough&#x27;,\n",
       "                  transformers=[(&#x27;imputer&#x27;, SimpleImputer(),\n",
       "                                 Index([&#x27;CNT_CHILDREN&#x27;, &#x27;AMT_INCOME_TOTAL&#x27;, &#x27;AMT_CREDIT&#x27;, &#x27;AMT_ANNUITY&#x27;,\n",
       "       &#x27;AMT_GOODS_PRICE&#x27;, &#x27;REGION_POPULATION_RELATIVE&#x27;, &#x27;DAYS_BIRTH&#x27;,\n",
       "       &#x27;DAYS_EMPLOYED&#x27;, &#x27;DAYS_REGISTRATION&#x27;, &#x27;DAYS_ID_PUBLISH&#x27;,\n",
       "       ...\n",
       "       &#x27;NAME_CONTRACT_STATUS_Completed_prev&#x27;, &#x27;NAME_CONTRACT_STATUS_Demand&#x27;,\n",
       "       &#x27;NAME_CONTRACT...\n",
       "                                               handle_unknown=&#x27;ignore&#x27;),\n",
       "                                 Index([&#x27;NAME_CONTRACT_TYPE&#x27;, &#x27;CODE_GENDER&#x27;, &#x27;FLAG_OWN_CAR&#x27;, &#x27;FLAG_OWN_REALTY&#x27;,\n",
       "       &#x27;NAME_TYPE_SUITE&#x27;, &#x27;NAME_INCOME_TYPE&#x27;, &#x27;NAME_EDUCATION_TYPE&#x27;,\n",
       "       &#x27;NAME_FAMILY_STATUS&#x27;, &#x27;NAME_HOUSING_TYPE&#x27;, &#x27;OCCUPATION_TYPE&#x27;,\n",
       "       &#x27;WEEKDAY_APPR_PROCESS_START&#x27;, &#x27;ORGANIZATION_TYPE&#x27;, &#x27;FONDKAPREMONT_MODE&#x27;,\n",
       "       &#x27;HOUSETYPE_MODE&#x27;, &#x27;WALLSMATERIAL_MODE&#x27;, &#x27;EMERGENCYSTATE_MODE&#x27;],\n",
       "      dtype=&#x27;object&#x27;))])</pre></div></div></div><div class=\"sk-parallel\"><div class=\"sk-parallel-item\"><div class=\"sk-item\"><div class=\"sk-label-container\"><div class=\"sk-label sk-toggleable\"><input class=\"sk-toggleable__control sk-hidden--visually\" id=\"sk-estimator-id-3\" type=\"checkbox\" ><label for=\"sk-estimator-id-3\" class=\"sk-toggleable__label sk-toggleable__label-arrow\">imputer</label><div class=\"sk-toggleable__content\"><pre>Index([&#x27;CNT_CHILDREN&#x27;, &#x27;AMT_INCOME_TOTAL&#x27;, &#x27;AMT_CREDIT&#x27;, &#x27;AMT_ANNUITY&#x27;,\n",
       "       &#x27;AMT_GOODS_PRICE&#x27;, &#x27;REGION_POPULATION_RELATIVE&#x27;, &#x27;DAYS_BIRTH&#x27;,\n",
       "       &#x27;DAYS_EMPLOYED&#x27;, &#x27;DAYS_REGISTRATION&#x27;, &#x27;DAYS_ID_PUBLISH&#x27;,\n",
       "       ...\n",
       "       &#x27;NAME_CONTRACT_STATUS_Completed_prev&#x27;, &#x27;NAME_CONTRACT_STATUS_Demand&#x27;,\n",
       "       &#x27;NAME_CONTRACT_STATUS_Signed_prev&#x27;,\n",
       "       &#x27;NAME_CONTRACT_STATUS_Sent proposal&#x27;,\n",
       "       &#x27;NAME_CONTRACT_STATUS_Refused_credit&#x27;,\n",
       "       &#x27;NAME_CONTRACT_STATUS_Approved_credit&#x27;, &#x27;SK_DPD_max&#x27;, &#x27;SK_DPD_DEF_max&#x27;,\n",
       "       &#x27;DAY_DIFF&#x27;, &#x27;PAY_INSTALL_PROP&#x27;],\n",
       "      dtype=&#x27;object&#x27;, length=337)</pre></div></div></div><div class=\"sk-serial\"><div class=\"sk-item\"><div class=\"sk-estimator sk-toggleable\"><input class=\"sk-toggleable__control sk-hidden--visually\" id=\"sk-estimator-id-4\" type=\"checkbox\" ><label for=\"sk-estimator-id-4\" class=\"sk-toggleable__label sk-toggleable__label-arrow\">SimpleImputer</label><div class=\"sk-toggleable__content\"><pre>SimpleImputer()</pre></div></div></div></div></div></div><div class=\"sk-parallel-item\"><div class=\"sk-item\"><div class=\"sk-label-container\"><div class=\"sk-label sk-toggleable\"><input class=\"sk-toggleable__control sk-hidden--visually\" id=\"sk-estimator-id-5\" type=\"checkbox\" ><label for=\"sk-estimator-id-5\" class=\"sk-toggleable__label sk-toggleable__label-arrow\">ohe_rest</label><div class=\"sk-toggleable__content\"><pre>Index([&#x27;NAME_CONTRACT_TYPE&#x27;, &#x27;CODE_GENDER&#x27;, &#x27;FLAG_OWN_CAR&#x27;, &#x27;FLAG_OWN_REALTY&#x27;,\n",
       "       &#x27;NAME_TYPE_SUITE&#x27;, &#x27;NAME_INCOME_TYPE&#x27;, &#x27;NAME_EDUCATION_TYPE&#x27;,\n",
       "       &#x27;NAME_FAMILY_STATUS&#x27;, &#x27;NAME_HOUSING_TYPE&#x27;, &#x27;OCCUPATION_TYPE&#x27;,\n",
       "       &#x27;WEEKDAY_APPR_PROCESS_START&#x27;, &#x27;ORGANIZATION_TYPE&#x27;, &#x27;FONDKAPREMONT_MODE&#x27;,\n",
       "       &#x27;HOUSETYPE_MODE&#x27;, &#x27;WALLSMATERIAL_MODE&#x27;, &#x27;EMERGENCYSTATE_MODE&#x27;],\n",
       "      dtype=&#x27;object&#x27;)</pre></div></div></div><div class=\"sk-serial\"><div class=\"sk-item\"><div class=\"sk-estimator sk-toggleable\"><input class=\"sk-toggleable__control sk-hidden--visually\" id=\"sk-estimator-id-6\" type=\"checkbox\" ><label for=\"sk-estimator-id-6\" class=\"sk-toggleable__label sk-toggleable__label-arrow\">OneHotEncoder</label><div class=\"sk-toggleable__content\"><pre>OneHotEncoder(dtype=&#x27;int&#x27;, handle_unknown=&#x27;ignore&#x27;)</pre></div></div></div></div></div></div><div class=\"sk-parallel-item\"><div class=\"sk-item\"><div class=\"sk-label-container\"><div class=\"sk-label sk-toggleable\"><input class=\"sk-toggleable__control sk-hidden--visually\" id=\"sk-estimator-id-7\" type=\"checkbox\" ><label for=\"sk-estimator-id-7\" class=\"sk-toggleable__label sk-toggleable__label-arrow\">remainder</label><div class=\"sk-toggleable__content\"><pre>[]</pre></div></div></div><div class=\"sk-serial\"><div class=\"sk-item\"><div class=\"sk-estimator sk-toggleable\"><input class=\"sk-toggleable__control sk-hidden--visually\" id=\"sk-estimator-id-8\" type=\"checkbox\" ><label for=\"sk-estimator-id-8\" class=\"sk-toggleable__label sk-toggleable__label-arrow\">passthrough</label><div class=\"sk-toggleable__content\"><pre>passthrough</pre></div></div></div></div></div></div></div></div><div class=\"sk-item\"><div class=\"sk-estimator sk-toggleable\"><input class=\"sk-toggleable__control sk-hidden--visually\" id=\"sk-estimator-id-9\" type=\"checkbox\" ><label for=\"sk-estimator-id-9\" class=\"sk-toggleable__label sk-toggleable__label-arrow\">LGBMClassifier</label><div class=\"sk-toggleable__content\"><pre>LGBMClassifier(class_weight={0: 0.08, 1: 0.92}, learning_rate=0.06,\n",
       "               max_depth=10, n_estimators=200, num_leaves=15)</pre></div></div></div></div></div></div></div>"
      ],
      "text/plain": [
       "Pipeline(steps=[('pre_col2',\n",
       "                 ColumnTransformer(remainder='passthrough',\n",
       "                                   transformers=[('imputer', SimpleImputer(),\n",
       "                                                  Index(['CNT_CHILDREN', 'AMT_INCOME_TOTAL', 'AMT_CREDIT', 'AMT_ANNUITY',\n",
       "       'AMT_GOODS_PRICE', 'REGION_POPULATION_RELATIVE', 'DAYS_BIRTH',\n",
       "       'DAYS_EMPLOYED', 'DAYS_REGISTRATION', 'DAYS_ID_PUBLISH',\n",
       "       ...\n",
       "       'NAME_CONTRACT_STATUS_Completed_prev', 'NAME_CONTRACT_S...\n",
       "       'NAME_TYPE_SUITE', 'NAME_INCOME_TYPE', 'NAME_EDUCATION_TYPE',\n",
       "       'NAME_FAMILY_STATUS', 'NAME_HOUSING_TYPE', 'OCCUPATION_TYPE',\n",
       "       'WEEKDAY_APPR_PROCESS_START', 'ORGANIZATION_TYPE', 'FONDKAPREMONT_MODE',\n",
       "       'HOUSETYPE_MODE', 'WALLSMATERIAL_MODE', 'EMERGENCYSTATE_MODE'],\n",
       "      dtype='object'))])),\n",
       "                ('lgb',\n",
       "                 LGBMClassifier(class_weight={0: 0.08, 1: 0.92},\n",
       "                                learning_rate=0.06, max_depth=10,\n",
       "                                n_estimators=200, num_leaves=15))])"
      ]
     },
     "execution_count": 41,
     "metadata": {},
     "output_type": "execute_result"
    }
   ],
   "source": [
    "pl_lgbm2=Pipeline([\n",
    "    (\"pre_col2\", pre_col_2),\n",
    "    ('lgb', lgb.LGBMClassifier(max_depth=10,\n",
    "                               learning_rate=0.06,\n",
    "                               n_estimators=200,\n",
    "                               num_leaves=15,\n",
    "                               class_weight={0:0.08,1:0.92}))\n",
    "])\n",
    "\n",
    "\n",
    "pl_lgbm2.fit(X_train2.replace([np.inf, -np.inf], np.nan), y_train)"
   ]
  },
  {
   "cell_type": "code",
   "execution_count": 43,
   "id": "5c6d4fd4",
   "metadata": {
    "scrolled": true
   },
   "outputs": [
    {
     "data": {
      "text/plain": [
       "array([0.75981792, 0.76182963, 0.76784037, 0.76150257, 0.77037915])"
      ]
     },
     "execution_count": 43,
     "metadata": {},
     "output_type": "execute_result"
    }
   ],
   "source": [
    "from sklearn.model_selection import cross_val_score\n",
    "cross_val_score(pl_lgbm2,X_train2.replace([np.inf, -np.inf], np.nan), y_train, cv=5,scoring=\"roc_auc\")"
   ]
  },
  {
   "cell_type": "code",
   "execution_count": 45,
   "id": "5b874943",
   "metadata": {
    "scrolled": true
   },
   "outputs": [
    {
     "data": {
      "text/plain": [
       "array([1, 0, 0, ..., 0, 0, 0])"
      ]
     },
     "execution_count": 45,
     "metadata": {},
     "output_type": "execute_result"
    }
   ],
   "source": [
    "pl_lgbm2.predict(X_test2.replace([np.inf, -np.inf], np.nan))"
   ]
  },
  {
   "cell_type": "code",
   "execution_count": 47,
   "id": "2acf9c10",
   "metadata": {},
   "outputs": [],
   "source": [
    "# light gbm"
   ]
  },
  {
   "cell_type": "code",
   "execution_count": 46,
   "id": "75b44837",
   "metadata": {},
   "outputs": [
    {
     "data": {
      "text/plain": [
       "0.6954753053307428"
      ]
     },
     "execution_count": 46,
     "metadata": {},
     "output_type": "execute_result"
    }
   ],
   "source": [
    "roc_auc_score(y_test, pl_lgbm2.predict(X_test2))"
   ]
  },
  {
   "cell_type": "code",
   "execution_count": 318,
   "id": "e9d9ee11",
   "metadata": {
    "scrolled": true
   },
   "outputs": [],
   "source": [
    "from sklearn.model_selection import GridSearchCV\n",
    "grid_lol = GridSearchCV(pl_lgbm2, grid_lgbm, cv=5,verbose=10,scoring=\"roc_auc\")\n",
    "#grid_lol.fit(X_train2.replace([np.inf, -np.inf], np.nan), y_train)"
   ]
  },
  {
   "cell_type": "markdown",
   "id": "0fa3e09c",
   "metadata": {},
   "source": [
    "### Featuer selection:"
   ]
  },
  {
   "cell_type": "code",
   "execution_count": 89,
   "id": "0f52e002",
   "metadata": {
    "scrolled": true
   },
   "outputs": [],
   "source": [
    "pre_col.fit(X_train.replace([np.inf, -np.inf], np.nan), y_train)\n",
    "estimator = lgb.LGBMClassifier(class_weight={0:0.08,1:0.92})\n",
    "selector = RFE(estimator, n_features_to_select=350,verbose=10)\n",
    "#selector.fit(pre_col.transform(X_train.replace([np.inf, -np.inf], np.nan)), y_train)"
   ]
  },
  {
   "cell_type": "code",
   "execution_count": 101,
   "id": "f5b0d3ae",
   "metadata": {},
   "outputs": [],
   "source": [
    "#selected=selector.transform(pre_col.transform(X_train.replace([np.inf, -np.inf], np.nan)))"
   ]
  },
  {
   "cell_type": "code",
   "execution_count": 102,
   "id": "59c7eff8",
   "metadata": {},
   "outputs": [],
   "source": [
    "estimator=lgb.LGBMClassifier(max_depth=10,\n",
    "                               learning_rate=0.08,\n",
    "                               n_estimators=200,\n",
    "                               num_leaves=15,)\n",
    "#class_weight={0:0.08,1:0.92}\n",
    "#estimator.fit(selected,y_train)"
   ]
  },
  {
   "cell_type": "code",
   "execution_count": 103,
   "id": "7a14cfec",
   "metadata": {},
   "outputs": [],
   "source": [
    "#from sklearn.model_selection import cross_val_score\n",
    "#cross_val_score(estimator,selected, y_train, cv=5,scoring=\"roc_auc\")"
   ]
  },
  {
   "cell_type": "markdown",
   "id": "77833f1c",
   "metadata": {},
   "source": [
    "## Nueral Network: "
   ]
  },
  {
   "cell_type": "code",
   "execution_count": 48,
   "id": "9c48696d",
   "metadata": {},
   "outputs": [],
   "source": [
    "from sklearn.neural_network import MLPClassifier"
   ]
  },
  {
   "cell_type": "code",
   "execution_count": 49,
   "id": "324a9bd3",
   "metadata": {},
   "outputs": [],
   "source": [
    "pl_nn=Pipeline([\n",
    "    (\"pre_col\", pre_col),\n",
    "    ('nn', MLPClassifier())])\n",
    "\n",
    "#nn_weight = [1 if i==0 else 10 for i in y_train['TARGET'].to_numpy()]\n",
    "#pl_nn.fit(X_train.replace([np.inf, -np.inf], np.nan), y_train, sample_weight=nn_weight)"
   ]
  },
  {
   "cell_type": "code",
   "execution_count": 114,
   "id": "a40404a4",
   "metadata": {},
   "outputs": [],
   "source": [
    "#nn_weight = [1 if i==0 else 10 for i in y_train['TARGET'].to_numpy()]\n",
    "#a=pre_col.transform(X_train.replace([np.inf, -np.inf], np.nan))\n",
    "#nn=MLPClassifier()\n",
    "#nn.fit(a,y_train, sample_weight=nn_weight)"
   ]
  },
  {
   "cell_type": "code",
   "execution_count": 50,
   "id": "802d6fbd",
   "metadata": {},
   "outputs": [],
   "source": [
    "#pl_nn.fit(X_train.replace([np.inf, -np.inf], np.nan), y_train)"
   ]
  },
  {
   "cell_type": "code",
   "execution_count": null,
   "id": "943e3290",
   "metadata": {},
   "outputs": [],
   "source": [
    "# bad validation set performance"
   ]
  },
  {
   "cell_type": "markdown",
   "id": "8ada1dba",
   "metadata": {},
   "source": [
    "## Ada Boost:"
   ]
  },
  {
   "cell_type": "code",
   "execution_count": 118,
   "id": "dd3bef3f",
   "metadata": {},
   "outputs": [],
   "source": [
    "from sklearn.ensemble import AdaBoostClassifier"
   ]
  },
  {
   "cell_type": "code",
   "execution_count": 120,
   "id": "c10560fa",
   "metadata": {},
   "outputs": [],
   "source": [
    "e1=lgb.LGBMClassifier(max_depth=10,class_weight={0:0.08,1:0.92})\n",
    "\n",
    "\n",
    "pl_ada=Pipeline([\n",
    "    (\"pre_col\", pre_col),\n",
    "    ('ada', AdaBoostClassifier(estimator=e1,))\n",
    "])"
   ]
  },
  {
   "cell_type": "code",
   "execution_count": 121,
   "id": "ff974bb7",
   "metadata": {},
   "outputs": [],
   "source": [
    "#pl_ada.fit(X_train.replace([np.inf, -np.inf], np.nan), y_train)"
   ]
  },
  {
   "cell_type": "code",
   "execution_count": null,
   "id": "99bbf7c4",
   "metadata": {},
   "outputs": [],
   "source": [
    "# bad validation set performance"
   ]
  },
  {
   "cell_type": "markdown",
   "id": "9fd3da23",
   "metadata": {},
   "source": [
    "## Guassian Mixture"
   ]
  },
  {
   "cell_type": "code",
   "execution_count": 136,
   "id": "5e9fe15f",
   "metadata": {},
   "outputs": [],
   "source": [
    "from sklearn.mixture import GaussianMixture"
   ]
  },
  {
   "cell_type": "code",
   "execution_count": 137,
   "id": "2966a590",
   "metadata": {},
   "outputs": [],
   "source": [
    "pl_gm=Pipeline([\n",
    "    (\"pre_col\", pre_col),\n",
    "    ('gm',GaussianMixture(n_components=2,reg_covar=0.04,weights_init=[0.1,0.9]))])\n",
    "\n",
    "#nn_weight = [1 if i==0 else 10 for i in y_train['TARGET'].to_numpy()]\n",
    "#pl_nn.fit(X_train.replace([np.inf, -np.inf], np.nan), y_train, sample_weight=nn_weight)"
   ]
  },
  {
   "cell_type": "code",
   "execution_count": 138,
   "id": "6d0fdc8b",
   "metadata": {},
   "outputs": [],
   "source": [
    "#pl_gm.fit(X_train.replace([np.inf, -np.inf], np.nan), y_train)"
   ]
  },
  {
   "cell_type": "code",
   "execution_count": 139,
   "id": "ef5c4a3a",
   "metadata": {},
   "outputs": [],
   "source": [
    "# bad validation set performance"
   ]
  },
  {
   "cell_type": "markdown",
   "id": "875bef3b",
   "metadata": {},
   "source": [
    "## HistGradientBoostingClassifier:"
   ]
  },
  {
   "cell_type": "code",
   "execution_count": 82,
   "id": "0468b770",
   "metadata": {},
   "outputs": [],
   "source": [
    "from sklearn.ensemble import HistGradientBoostingClassifier"
   ]
  },
  {
   "cell_type": "code",
   "execution_count": null,
   "id": "02146c1f",
   "metadata": {},
   "outputs": [],
   "source": [
    "#{'hb__class_weight': {0: 0.08, 1: 0.92},\n",
    " #'hb__l2_regularization': 10,\n",
    "# 'hb__learning_rate': 0.08,\n",
    "# 'hb__loss': 'binary_crossentropy',\n",
    " #'hb__max_depth': 8,\n",
    "# 'hb__max_iter': 150,\n",
    " #'hb__scoring': 'roc_auc'}\n",
    "#class_weight={0:1,1:11.5}"
   ]
  },
  {
   "cell_type": "code",
   "execution_count": 83,
   "id": "76c41f28",
   "metadata": {},
   "outputs": [],
   "source": [
    "pl_hgb=Pipeline([\n",
    "    (\"pre_col\", pre_col),\n",
    "    ('hb', HistGradientBoostingClassifier(loss=\"binary_crossentropy\",\n",
    "                                          scoring=\"roc_auc\",\n",
    "                                          max_iter=150,\n",
    "                                          max_depth=5,\n",
    "                                          l2_regularization=10,\n",
    "                                          class_weight={0:1,1:11.5}))\n",
    "])\n",
    "\n",
    "pl_hgb2=Pipeline([\n",
    "    (\"pre_col\", pre_col_2),\n",
    "    ('hb', HistGradientBoostingClassifier(loss=\"binary_crossentropy\",\n",
    "                                          scoring=\"roc_auc\",\n",
    "                                          max_iter=150,\n",
    "                                          learning_rate=0.08,\n",
    "                                          max_depth=8,\n",
    "                                          l2_regularization=10,\n",
    "                                          class_weight={0:1,1:11.5}))\n",
    "])\n"
   ]
  },
  {
   "cell_type": "code",
   "execution_count": 52,
   "id": "7143759a",
   "metadata": {
    "scrolled": true
   },
   "outputs": [],
   "source": [
    "#pl_hgb.fit(X_train.replace([np.inf, -np.inf], np.nan), y_train,hb__sample_weight=nn_weight)\n",
    "#pl_hgb2.fit(X_train2.replace([np.inf, -np.inf], np.nan), y_train,)"
   ]
  },
  {
   "cell_type": "code",
   "execution_count": 439,
   "id": "c099a5c6",
   "metadata": {},
   "outputs": [],
   "source": [
    "#from sklearn.model_selection import cross_val_score\n",
    "#cross_val_score(pl_hgb, X_train.replace([np.inf, -np.inf], np.nan), y_train, cv=5,scoring=\"roc_auc\",error_score=\"raise\")"
   ]
  },
  {
   "cell_type": "code",
   "execution_count": null,
   "id": "60968aa8",
   "metadata": {},
   "outputs": [],
   "source": [
    "# pretty good validation performance"
   ]
  },
  {
   "cell_type": "code",
   "execution_count": null,
   "id": "51bbfef8",
   "metadata": {},
   "outputs": [],
   "source": [
    "# final performance:"
   ]
  },
  {
   "cell_type": "code",
   "execution_count": 441,
   "id": "28dd82aa",
   "metadata": {
    "scrolled": true
   },
   "outputs": [
    {
     "data": {
      "text/plain": [
       "0.6956520951455987"
      ]
     },
     "execution_count": 441,
     "metadata": {},
     "output_type": "execute_result"
    }
   ],
   "source": [
    "roc_auc_score(y_test, pl_hgb2.predict(X_test2))"
   ]
  },
  {
   "cell_type": "markdown",
   "id": "31567484",
   "metadata": {},
   "source": [
    "## ExtraTreesClassifier: 0.6627"
   ]
  },
  {
   "cell_type": "code",
   "execution_count": 57,
   "id": "2c9bb931",
   "metadata": {},
   "outputs": [],
   "source": [
    "from sklearn.ensemble import ExtraTreesClassifier"
   ]
  },
  {
   "cell_type": "code",
   "execution_count": 58,
   "id": "ea46bb96",
   "metadata": {},
   "outputs": [],
   "source": [
    "pre_col2 = ColumnTransformer(\n",
    "    remainder=\"passthrough\",\n",
    "    transformers=[('imputer', SimpleImputer(missing_values=np.nan, strategy='mean'),num_col),\n",
    "                  ('ohe_2',OneHotEncoder(handle_unknown='ignore', dtype='int'),keep2),\n",
    "                  (\"ohe_5\",OneHotEncoder(handle_unknown='ignore', dtype='int'),keep5),\n",
    "                  (\"ohe_rest\",OneHotEncoder(handle_unknown='ignore', dtype='int'),rest)\n",
    "                 ])\n",
    "\n",
    "pl_et=Pipeline([\n",
    "    (\"pre_col\", pre_col),\n",
    "    ('hb', ExtraTreesClassifier(max_features=\"sqrt\",\n",
    "                                class_weight=\"balanced_subsample\",\n",
    "                                max_depth=7,\n",
    "                                min_samples_leaf=2,\n",
    "                                criterion=\"log_loss\",\n",
    "                                n_estimators=300\n",
    "                               ))\n",
    "])\n",
    "\n",
    "pl_et2=Pipeline([\n",
    "    (\"pre_col\", pre_col_2),\n",
    "    ('hb', ExtraTreesClassifier(max_features=\"sqrt\",\n",
    "                                class_weight=\"balanced\",\n",
    "                                max_depth=7,\n",
    "                                min_samples_leaf=2,\n",
    "                                criterion=\"log_loss\",\n",
    "                                n_estimators=300\n",
    "                               ))\n",
    "])\n"
   ]
  },
  {
   "cell_type": "code",
   "execution_count": 59,
   "id": "f175a8b0",
   "metadata": {},
   "outputs": [
    {
     "data": {
      "text/html": [
       "<style>#sk-container-id-2 {color: black;background-color: white;}#sk-container-id-2 pre{padding: 0;}#sk-container-id-2 div.sk-toggleable {background-color: white;}#sk-container-id-2 label.sk-toggleable__label {cursor: pointer;display: block;width: 100%;margin-bottom: 0;padding: 0.3em;box-sizing: border-box;text-align: center;}#sk-container-id-2 label.sk-toggleable__label-arrow:before {content: \"▸\";float: left;margin-right: 0.25em;color: #696969;}#sk-container-id-2 label.sk-toggleable__label-arrow:hover:before {color: black;}#sk-container-id-2 div.sk-estimator:hover label.sk-toggleable__label-arrow:before {color: black;}#sk-container-id-2 div.sk-toggleable__content {max-height: 0;max-width: 0;overflow: hidden;text-align: left;background-color: #f0f8ff;}#sk-container-id-2 div.sk-toggleable__content pre {margin: 0.2em;color: black;border-radius: 0.25em;background-color: #f0f8ff;}#sk-container-id-2 input.sk-toggleable__control:checked~div.sk-toggleable__content {max-height: 200px;max-width: 100%;overflow: auto;}#sk-container-id-2 input.sk-toggleable__control:checked~label.sk-toggleable__label-arrow:before {content: \"▾\";}#sk-container-id-2 div.sk-estimator input.sk-toggleable__control:checked~label.sk-toggleable__label {background-color: #d4ebff;}#sk-container-id-2 div.sk-label input.sk-toggleable__control:checked~label.sk-toggleable__label {background-color: #d4ebff;}#sk-container-id-2 input.sk-hidden--visually {border: 0;clip: rect(1px 1px 1px 1px);clip: rect(1px, 1px, 1px, 1px);height: 1px;margin: -1px;overflow: hidden;padding: 0;position: absolute;width: 1px;}#sk-container-id-2 div.sk-estimator {font-family: monospace;background-color: #f0f8ff;border: 1px dotted black;border-radius: 0.25em;box-sizing: border-box;margin-bottom: 0.5em;}#sk-container-id-2 div.sk-estimator:hover {background-color: #d4ebff;}#sk-container-id-2 div.sk-parallel-item::after {content: \"\";width: 100%;border-bottom: 1px solid gray;flex-grow: 1;}#sk-container-id-2 div.sk-label:hover label.sk-toggleable__label {background-color: #d4ebff;}#sk-container-id-2 div.sk-serial::before {content: \"\";position: absolute;border-left: 1px solid gray;box-sizing: border-box;top: 0;bottom: 0;left: 50%;z-index: 0;}#sk-container-id-2 div.sk-serial {display: flex;flex-direction: column;align-items: center;background-color: white;padding-right: 0.2em;padding-left: 0.2em;position: relative;}#sk-container-id-2 div.sk-item {position: relative;z-index: 1;}#sk-container-id-2 div.sk-parallel {display: flex;align-items: stretch;justify-content: center;background-color: white;position: relative;}#sk-container-id-2 div.sk-item::before, #sk-container-id-2 div.sk-parallel-item::before {content: \"\";position: absolute;border-left: 1px solid gray;box-sizing: border-box;top: 0;bottom: 0;left: 50%;z-index: -1;}#sk-container-id-2 div.sk-parallel-item {display: flex;flex-direction: column;z-index: 1;position: relative;background-color: white;}#sk-container-id-2 div.sk-parallel-item:first-child::after {align-self: flex-end;width: 50%;}#sk-container-id-2 div.sk-parallel-item:last-child::after {align-self: flex-start;width: 50%;}#sk-container-id-2 div.sk-parallel-item:only-child::after {width: 0;}#sk-container-id-2 div.sk-dashed-wrapped {border: 1px dashed gray;margin: 0 0.4em 0.5em 0.4em;box-sizing: border-box;padding-bottom: 0.4em;background-color: white;}#sk-container-id-2 div.sk-label label {font-family: monospace;font-weight: bold;display: inline-block;line-height: 1.2em;}#sk-container-id-2 div.sk-label-container {text-align: center;}#sk-container-id-2 div.sk-container {/* jupyter's `normalize.less` sets `[hidden] { display: none; }` but bootstrap.min.css set `[hidden] { display: none !important; }` so we also need the `!important` here to be able to override the default hidden behavior on the sphinx rendered scikit-learn.org. See: https://github.com/scikit-learn/scikit-learn/issues/21755 */display: inline-block !important;position: relative;}#sk-container-id-2 div.sk-text-repr-fallback {display: none;}</style><div id=\"sk-container-id-2\" class=\"sk-top-container\"><div class=\"sk-text-repr-fallback\"><pre>Pipeline(steps=[(&#x27;pre_col&#x27;,\n",
       "                 ColumnTransformer(remainder=&#x27;passthrough&#x27;,\n",
       "                                   transformers=[(&#x27;imputer&#x27;, SimpleImputer(),\n",
       "                                                  Index([&#x27;CNT_CHILDREN&#x27;, &#x27;AMT_INCOME_TOTAL&#x27;, &#x27;AMT_CREDIT&#x27;, &#x27;AMT_ANNUITY&#x27;,\n",
       "       &#x27;AMT_GOODS_PRICE&#x27;, &#x27;REGION_POPULATION_RELATIVE&#x27;, &#x27;DAYS_BIRTH&#x27;,\n",
       "       &#x27;DAYS_EMPLOYED&#x27;, &#x27;DAYS_REGISTRATION&#x27;, &#x27;DAYS_ID_PUBLISH&#x27;,\n",
       "       ...\n",
       "       &#x27;NAME_CONTRACT_STATUS_Completed_prev&#x27;, &#x27;NAME_CONTRACT_ST...\n",
       "       &#x27;NAME_TYPE_SUITE&#x27;, &#x27;NAME_INCOME_TYPE&#x27;, &#x27;NAME_EDUCATION_TYPE&#x27;,\n",
       "       &#x27;NAME_FAMILY_STATUS&#x27;, &#x27;NAME_HOUSING_TYPE&#x27;, &#x27;OCCUPATION_TYPE&#x27;,\n",
       "       &#x27;WEEKDAY_APPR_PROCESS_START&#x27;, &#x27;ORGANIZATION_TYPE&#x27;, &#x27;FONDKAPREMONT_MODE&#x27;,\n",
       "       &#x27;HOUSETYPE_MODE&#x27;, &#x27;WALLSMATERIAL_MODE&#x27;, &#x27;EMERGENCYSTATE_MODE&#x27;],\n",
       "      dtype=&#x27;object&#x27;))])),\n",
       "                (&#x27;hb&#x27;,\n",
       "                 ExtraTreesClassifier(class_weight=&#x27;balanced&#x27;,\n",
       "                                      criterion=&#x27;log_loss&#x27;, max_depth=7,\n",
       "                                      min_samples_leaf=2, n_estimators=300))])</pre><b>In a Jupyter environment, please rerun this cell to show the HTML representation or trust the notebook. <br />On GitHub, the HTML representation is unable to render, please try loading this page with nbviewer.org.</b></div><div class=\"sk-container\" hidden><div class=\"sk-item sk-dashed-wrapped\"><div class=\"sk-label-container\"><div class=\"sk-label sk-toggleable\"><input class=\"sk-toggleable__control sk-hidden--visually\" id=\"sk-estimator-id-10\" type=\"checkbox\" ><label for=\"sk-estimator-id-10\" class=\"sk-toggleable__label sk-toggleable__label-arrow\">Pipeline</label><div class=\"sk-toggleable__content\"><pre>Pipeline(steps=[(&#x27;pre_col&#x27;,\n",
       "                 ColumnTransformer(remainder=&#x27;passthrough&#x27;,\n",
       "                                   transformers=[(&#x27;imputer&#x27;, SimpleImputer(),\n",
       "                                                  Index([&#x27;CNT_CHILDREN&#x27;, &#x27;AMT_INCOME_TOTAL&#x27;, &#x27;AMT_CREDIT&#x27;, &#x27;AMT_ANNUITY&#x27;,\n",
       "       &#x27;AMT_GOODS_PRICE&#x27;, &#x27;REGION_POPULATION_RELATIVE&#x27;, &#x27;DAYS_BIRTH&#x27;,\n",
       "       &#x27;DAYS_EMPLOYED&#x27;, &#x27;DAYS_REGISTRATION&#x27;, &#x27;DAYS_ID_PUBLISH&#x27;,\n",
       "       ...\n",
       "       &#x27;NAME_CONTRACT_STATUS_Completed_prev&#x27;, &#x27;NAME_CONTRACT_ST...\n",
       "       &#x27;NAME_TYPE_SUITE&#x27;, &#x27;NAME_INCOME_TYPE&#x27;, &#x27;NAME_EDUCATION_TYPE&#x27;,\n",
       "       &#x27;NAME_FAMILY_STATUS&#x27;, &#x27;NAME_HOUSING_TYPE&#x27;, &#x27;OCCUPATION_TYPE&#x27;,\n",
       "       &#x27;WEEKDAY_APPR_PROCESS_START&#x27;, &#x27;ORGANIZATION_TYPE&#x27;, &#x27;FONDKAPREMONT_MODE&#x27;,\n",
       "       &#x27;HOUSETYPE_MODE&#x27;, &#x27;WALLSMATERIAL_MODE&#x27;, &#x27;EMERGENCYSTATE_MODE&#x27;],\n",
       "      dtype=&#x27;object&#x27;))])),\n",
       "                (&#x27;hb&#x27;,\n",
       "                 ExtraTreesClassifier(class_weight=&#x27;balanced&#x27;,\n",
       "                                      criterion=&#x27;log_loss&#x27;, max_depth=7,\n",
       "                                      min_samples_leaf=2, n_estimators=300))])</pre></div></div></div><div class=\"sk-serial\"><div class=\"sk-item sk-dashed-wrapped\"><div class=\"sk-label-container\"><div class=\"sk-label sk-toggleable\"><input class=\"sk-toggleable__control sk-hidden--visually\" id=\"sk-estimator-id-11\" type=\"checkbox\" ><label for=\"sk-estimator-id-11\" class=\"sk-toggleable__label sk-toggleable__label-arrow\">pre_col: ColumnTransformer</label><div class=\"sk-toggleable__content\"><pre>ColumnTransformer(remainder=&#x27;passthrough&#x27;,\n",
       "                  transformers=[(&#x27;imputer&#x27;, SimpleImputer(),\n",
       "                                 Index([&#x27;CNT_CHILDREN&#x27;, &#x27;AMT_INCOME_TOTAL&#x27;, &#x27;AMT_CREDIT&#x27;, &#x27;AMT_ANNUITY&#x27;,\n",
       "       &#x27;AMT_GOODS_PRICE&#x27;, &#x27;REGION_POPULATION_RELATIVE&#x27;, &#x27;DAYS_BIRTH&#x27;,\n",
       "       &#x27;DAYS_EMPLOYED&#x27;, &#x27;DAYS_REGISTRATION&#x27;, &#x27;DAYS_ID_PUBLISH&#x27;,\n",
       "       ...\n",
       "       &#x27;NAME_CONTRACT_STATUS_Completed_prev&#x27;, &#x27;NAME_CONTRACT_STATUS_Demand&#x27;,\n",
       "       &#x27;NAME_CONTRACT...\n",
       "                                               handle_unknown=&#x27;ignore&#x27;),\n",
       "                                 Index([&#x27;NAME_CONTRACT_TYPE&#x27;, &#x27;CODE_GENDER&#x27;, &#x27;FLAG_OWN_CAR&#x27;, &#x27;FLAG_OWN_REALTY&#x27;,\n",
       "       &#x27;NAME_TYPE_SUITE&#x27;, &#x27;NAME_INCOME_TYPE&#x27;, &#x27;NAME_EDUCATION_TYPE&#x27;,\n",
       "       &#x27;NAME_FAMILY_STATUS&#x27;, &#x27;NAME_HOUSING_TYPE&#x27;, &#x27;OCCUPATION_TYPE&#x27;,\n",
       "       &#x27;WEEKDAY_APPR_PROCESS_START&#x27;, &#x27;ORGANIZATION_TYPE&#x27;, &#x27;FONDKAPREMONT_MODE&#x27;,\n",
       "       &#x27;HOUSETYPE_MODE&#x27;, &#x27;WALLSMATERIAL_MODE&#x27;, &#x27;EMERGENCYSTATE_MODE&#x27;],\n",
       "      dtype=&#x27;object&#x27;))])</pre></div></div></div><div class=\"sk-parallel\"><div class=\"sk-parallel-item\"><div class=\"sk-item\"><div class=\"sk-label-container\"><div class=\"sk-label sk-toggleable\"><input class=\"sk-toggleable__control sk-hidden--visually\" id=\"sk-estimator-id-12\" type=\"checkbox\" ><label for=\"sk-estimator-id-12\" class=\"sk-toggleable__label sk-toggleable__label-arrow\">imputer</label><div class=\"sk-toggleable__content\"><pre>Index([&#x27;CNT_CHILDREN&#x27;, &#x27;AMT_INCOME_TOTAL&#x27;, &#x27;AMT_CREDIT&#x27;, &#x27;AMT_ANNUITY&#x27;,\n",
       "       &#x27;AMT_GOODS_PRICE&#x27;, &#x27;REGION_POPULATION_RELATIVE&#x27;, &#x27;DAYS_BIRTH&#x27;,\n",
       "       &#x27;DAYS_EMPLOYED&#x27;, &#x27;DAYS_REGISTRATION&#x27;, &#x27;DAYS_ID_PUBLISH&#x27;,\n",
       "       ...\n",
       "       &#x27;NAME_CONTRACT_STATUS_Completed_prev&#x27;, &#x27;NAME_CONTRACT_STATUS_Demand&#x27;,\n",
       "       &#x27;NAME_CONTRACT_STATUS_Signed_prev&#x27;,\n",
       "       &#x27;NAME_CONTRACT_STATUS_Sent proposal&#x27;,\n",
       "       &#x27;NAME_CONTRACT_STATUS_Refused_credit&#x27;,\n",
       "       &#x27;NAME_CONTRACT_STATUS_Approved_credit&#x27;, &#x27;SK_DPD_max&#x27;, &#x27;SK_DPD_DEF_max&#x27;,\n",
       "       &#x27;DAY_DIFF&#x27;, &#x27;PAY_INSTALL_PROP&#x27;],\n",
       "      dtype=&#x27;object&#x27;, length=337)</pre></div></div></div><div class=\"sk-serial\"><div class=\"sk-item\"><div class=\"sk-estimator sk-toggleable\"><input class=\"sk-toggleable__control sk-hidden--visually\" id=\"sk-estimator-id-13\" type=\"checkbox\" ><label for=\"sk-estimator-id-13\" class=\"sk-toggleable__label sk-toggleable__label-arrow\">SimpleImputer</label><div class=\"sk-toggleable__content\"><pre>SimpleImputer()</pre></div></div></div></div></div></div><div class=\"sk-parallel-item\"><div class=\"sk-item\"><div class=\"sk-label-container\"><div class=\"sk-label sk-toggleable\"><input class=\"sk-toggleable__control sk-hidden--visually\" id=\"sk-estimator-id-14\" type=\"checkbox\" ><label for=\"sk-estimator-id-14\" class=\"sk-toggleable__label sk-toggleable__label-arrow\">ohe_rest</label><div class=\"sk-toggleable__content\"><pre>Index([&#x27;NAME_CONTRACT_TYPE&#x27;, &#x27;CODE_GENDER&#x27;, &#x27;FLAG_OWN_CAR&#x27;, &#x27;FLAG_OWN_REALTY&#x27;,\n",
       "       &#x27;NAME_TYPE_SUITE&#x27;, &#x27;NAME_INCOME_TYPE&#x27;, &#x27;NAME_EDUCATION_TYPE&#x27;,\n",
       "       &#x27;NAME_FAMILY_STATUS&#x27;, &#x27;NAME_HOUSING_TYPE&#x27;, &#x27;OCCUPATION_TYPE&#x27;,\n",
       "       &#x27;WEEKDAY_APPR_PROCESS_START&#x27;, &#x27;ORGANIZATION_TYPE&#x27;, &#x27;FONDKAPREMONT_MODE&#x27;,\n",
       "       &#x27;HOUSETYPE_MODE&#x27;, &#x27;WALLSMATERIAL_MODE&#x27;, &#x27;EMERGENCYSTATE_MODE&#x27;],\n",
       "      dtype=&#x27;object&#x27;)</pre></div></div></div><div class=\"sk-serial\"><div class=\"sk-item\"><div class=\"sk-estimator sk-toggleable\"><input class=\"sk-toggleable__control sk-hidden--visually\" id=\"sk-estimator-id-15\" type=\"checkbox\" ><label for=\"sk-estimator-id-15\" class=\"sk-toggleable__label sk-toggleable__label-arrow\">OneHotEncoder</label><div class=\"sk-toggleable__content\"><pre>OneHotEncoder(dtype=&#x27;int&#x27;, handle_unknown=&#x27;ignore&#x27;)</pre></div></div></div></div></div></div><div class=\"sk-parallel-item\"><div class=\"sk-item\"><div class=\"sk-label-container\"><div class=\"sk-label sk-toggleable\"><input class=\"sk-toggleable__control sk-hidden--visually\" id=\"sk-estimator-id-16\" type=\"checkbox\" ><label for=\"sk-estimator-id-16\" class=\"sk-toggleable__label sk-toggleable__label-arrow\">remainder</label><div class=\"sk-toggleable__content\"><pre>[]</pre></div></div></div><div class=\"sk-serial\"><div class=\"sk-item\"><div class=\"sk-estimator sk-toggleable\"><input class=\"sk-toggleable__control sk-hidden--visually\" id=\"sk-estimator-id-17\" type=\"checkbox\" ><label for=\"sk-estimator-id-17\" class=\"sk-toggleable__label sk-toggleable__label-arrow\">passthrough</label><div class=\"sk-toggleable__content\"><pre>passthrough</pre></div></div></div></div></div></div></div></div><div class=\"sk-item\"><div class=\"sk-estimator sk-toggleable\"><input class=\"sk-toggleable__control sk-hidden--visually\" id=\"sk-estimator-id-18\" type=\"checkbox\" ><label for=\"sk-estimator-id-18\" class=\"sk-toggleable__label sk-toggleable__label-arrow\">ExtraTreesClassifier</label><div class=\"sk-toggleable__content\"><pre>ExtraTreesClassifier(class_weight=&#x27;balanced&#x27;, criterion=&#x27;log_loss&#x27;, max_depth=7,\n",
       "                     min_samples_leaf=2, n_estimators=300)</pre></div></div></div></div></div></div></div>"
      ],
      "text/plain": [
       "Pipeline(steps=[('pre_col',\n",
       "                 ColumnTransformer(remainder='passthrough',\n",
       "                                   transformers=[('imputer', SimpleImputer(),\n",
       "                                                  Index(['CNT_CHILDREN', 'AMT_INCOME_TOTAL', 'AMT_CREDIT', 'AMT_ANNUITY',\n",
       "       'AMT_GOODS_PRICE', 'REGION_POPULATION_RELATIVE', 'DAYS_BIRTH',\n",
       "       'DAYS_EMPLOYED', 'DAYS_REGISTRATION', 'DAYS_ID_PUBLISH',\n",
       "       ...\n",
       "       'NAME_CONTRACT_STATUS_Completed_prev', 'NAME_CONTRACT_ST...\n",
       "       'NAME_TYPE_SUITE', 'NAME_INCOME_TYPE', 'NAME_EDUCATION_TYPE',\n",
       "       'NAME_FAMILY_STATUS', 'NAME_HOUSING_TYPE', 'OCCUPATION_TYPE',\n",
       "       'WEEKDAY_APPR_PROCESS_START', 'ORGANIZATION_TYPE', 'FONDKAPREMONT_MODE',\n",
       "       'HOUSETYPE_MODE', 'WALLSMATERIAL_MODE', 'EMERGENCYSTATE_MODE'],\n",
       "      dtype='object'))])),\n",
       "                ('hb',\n",
       "                 ExtraTreesClassifier(class_weight='balanced',\n",
       "                                      criterion='log_loss', max_depth=7,\n",
       "                                      min_samples_leaf=2, n_estimators=300))])"
      ]
     },
     "execution_count": 59,
     "metadata": {},
     "output_type": "execute_result"
    }
   ],
   "source": [
    "#pl_et2.fit(X_train2.replace([np.inf, -np.inf], np.nan), y_train)"
   ]
  },
  {
   "cell_type": "code",
   "execution_count": 447,
   "id": "9daacde5",
   "metadata": {},
   "outputs": [],
   "source": [
    "#from sklearn.model_selection import cross_val_score\n",
    "#cross_val_score(pl_hgb, X_train.replace([np.inf, -np.inf], np.nan), y_train, cv=5,scoring=\"roc_auc\",error_score=\"raise\")"
   ]
  },
  {
   "cell_type": "code",
   "execution_count": 54,
   "id": "63dfd60d",
   "metadata": {},
   "outputs": [],
   "source": [
    "# final performce:"
   ]
  },
  {
   "cell_type": "code",
   "execution_count": 60,
   "id": "9f8e97de",
   "metadata": {
    "scrolled": true
   },
   "outputs": [
    {
     "data": {
      "text/plain": [
       "0.6720468435583442"
      ]
     },
     "execution_count": 60,
     "metadata": {},
     "output_type": "execute_result"
    }
   ],
   "source": [
    "roc_auc_score(y_test, pl_et2.predict(X_test2))"
   ]
  },
  {
   "cell_type": "markdown",
   "id": "3353212a",
   "metadata": {},
   "source": [
    "## Some feature selection:Randeom Forrest"
   ]
  },
  {
   "cell_type": "code",
   "execution_count": 61,
   "id": "92620232",
   "metadata": {
    "scrolled": true
   },
   "outputs": [],
   "source": [
    "pre_col.fit(X_train.replace([np.inf, -np.inf], np.nan), y_train)\n",
    "es = RandomForestClassifier(max_depth = 6,\n",
    "                                  n_estimators=250,\n",
    "                                  ccp_alpha=0,\n",
    "                                  random_state=42,\n",
    "                                  class_weight=\"balanced\")\n",
    "\n",
    "selector = RFE(es, n_features_to_select=375,verbose=10)"
   ]
  },
  {
   "cell_type": "code",
   "execution_count": 62,
   "id": "59cd9834",
   "metadata": {
    "scrolled": true
   },
   "outputs": [],
   "source": [
    "#selector.fit(pre_col.transform(X_train.replace([np.inf, -np.inf], np.nan)), y_train)"
   ]
  },
  {
   "cell_type": "code",
   "execution_count": 63,
   "id": "e3a6a65f",
   "metadata": {},
   "outputs": [],
   "source": [
    "#selector.estimator_"
   ]
  },
  {
   "cell_type": "code",
   "execution_count": 64,
   "id": "ba129b10",
   "metadata": {},
   "outputs": [],
   "source": [
    "#pre_col.fit(X_train.replace([np.inf, -np.inf], np.nan))\n",
    "#selected=selector.transform(pre_col.transform(X_train.replace([np.inf, -np.inf], np.nan)))"
   ]
  },
  {
   "cell_type": "code",
   "execution_count": 65,
   "id": "a2849451",
   "metadata": {},
   "outputs": [],
   "source": [
    "from sklearn.preprocessing import FunctionTransformer"
   ]
  },
  {
   "cell_type": "code",
   "execution_count": 70,
   "id": "c5baca0d",
   "metadata": {
    "scrolled": true
   },
   "outputs": [],
   "source": [
    "def select_features(X, bool_list):\n",
    "    return X[:, bool_list]\n",
    "\n",
    "#transformer = FunctionTransformer(select_features, kw_args={'bool_list': selector.estimator_})\n",
    "\n",
    "#pl_fs = Pipeline([\n",
    "    #(\"pre_col\", pre_col),\n",
    "    #('feature_selection', transformer),\n",
    "    #('rf_feature_selection', RandomForestClassifier(max_depth = 6,\n",
    "                                  #n_estimators=250,\n",
    "                                  #ccp_alpha=0,\n",
    "                                  #class_weight={0:0.08,1:0.92}))\n",
    "#])\n",
    "\n",
    "#pl_fs.fit(X_train.replace([np.inf, -np.inf], np.nan), y_train)"
   ]
  },
  {
   "cell_type": "code",
   "execution_count": 71,
   "id": "91ef4668",
   "metadata": {},
   "outputs": [],
   "source": [
    "#pl_fs.predict(X_test.replace([np.inf, -np.inf], np.nan)).sum()"
   ]
  },
  {
   "cell_type": "code",
   "execution_count": 72,
   "id": "8f8ce8d6",
   "metadata": {},
   "outputs": [],
   "source": [
    "#roc_auc_score(y_test, pl_fs.predict(X_test))"
   ]
  },
  {
   "cell_type": "markdown",
   "id": "fbfba830",
   "metadata": {},
   "source": [
    "## STACKING:"
   ]
  },
  {
   "cell_type": "code",
   "execution_count": 73,
   "id": "75fb94c9",
   "metadata": {},
   "outputs": [],
   "source": [
    "from sklearn.ensemble import StackingClassifier"
   ]
  },
  {
   "cell_type": "code",
   "execution_count": 77,
   "id": "bfed9401",
   "metadata": {},
   "outputs": [],
   "source": [
    "#estimators = [\n",
    "    #('lgbm', pl),\n",
    "    #('hgb',pl_hgb),\n",
    "    #(\"rf_fs\",pl_rf),\n",
    "    #('et',pl_et),\n",
    "#]\n",
    "\n",
    "# ('et',pl_et),\n",
    "#fe=lgb.LGBMClassifier(max_depth=10,\n",
    "                               #learning_rate=0.08,\n",
    "                               #n_estimators=200,\n",
    "                               #num_leaves=15,\n",
    "                               #class_weight={0:0.08,1:0.92})\n",
    "\n",
    "#fe_lr=LogisticRegression(class_weight={0:0.8,1:11.5})\n",
    "\n",
    "#reg=StackingClassifier(estimators,final_estimator=fe)"
   ]
  },
  {
   "cell_type": "code",
   "execution_count": 78,
   "id": "f51fd642",
   "metadata": {
    "scrolled": false
   },
   "outputs": [],
   "source": [
    "#pl.fit(X_train.replace([np.inf, -np.inf], np.nan), y_train)\n",
    "#pl_hgb.fit(X_train.replace([np.inf, -np.inf], np.nan), y_train)\n",
    "#reg.fit(X_train.replace([np.inf, -np.inf], np.nan), y_train)"
   ]
  },
  {
   "cell_type": "code",
   "execution_count": 203,
   "id": "42004fa1",
   "metadata": {},
   "outputs": [],
   "source": [
    "#pl.predict(X_test.replace([np.inf, -np.inf], np.nan)).sum()"
   ]
  },
  {
   "cell_type": "markdown",
   "id": "049f5d09",
   "metadata": {},
   "source": [
    "## Final Stack: "
   ]
  },
  {
   "cell_type": "code",
   "execution_count": 86,
   "id": "ea7dd918",
   "metadata": {},
   "outputs": [],
   "source": [
    "from sklearn.ensemble import StackingClassifier\n",
    "estimators = [\n",
    "    ('lgbm', pl_lgbm2),\n",
    "    ('hgb',pl_hgb2)\n",
    "]\n",
    "\n",
    "fe=lgb.LGBMClassifier(max_depth=10,\n",
    "                               learning_rate=0.08,\n",
    "                               n_estimators=150,\n",
    "                               num_leaves=15,\n",
    "                               class_weight={0:0.08,1:0.92})\n",
    "\n",
    "reg2=StackingClassifier(estimators,final_estimator=fe)"
   ]
  },
  {
   "cell_type": "code",
   "execution_count": 85,
   "id": "3bfe5805",
   "metadata": {},
   "outputs": [
    {
     "data": {
      "text/html": [
       "<style>#sk-container-id-3 {color: black;background-color: white;}#sk-container-id-3 pre{padding: 0;}#sk-container-id-3 div.sk-toggleable {background-color: white;}#sk-container-id-3 label.sk-toggleable__label {cursor: pointer;display: block;width: 100%;margin-bottom: 0;padding: 0.3em;box-sizing: border-box;text-align: center;}#sk-container-id-3 label.sk-toggleable__label-arrow:before {content: \"▸\";float: left;margin-right: 0.25em;color: #696969;}#sk-container-id-3 label.sk-toggleable__label-arrow:hover:before {color: black;}#sk-container-id-3 div.sk-estimator:hover label.sk-toggleable__label-arrow:before {color: black;}#sk-container-id-3 div.sk-toggleable__content {max-height: 0;max-width: 0;overflow: hidden;text-align: left;background-color: #f0f8ff;}#sk-container-id-3 div.sk-toggleable__content pre {margin: 0.2em;color: black;border-radius: 0.25em;background-color: #f0f8ff;}#sk-container-id-3 input.sk-toggleable__control:checked~div.sk-toggleable__content {max-height: 200px;max-width: 100%;overflow: auto;}#sk-container-id-3 input.sk-toggleable__control:checked~label.sk-toggleable__label-arrow:before {content: \"▾\";}#sk-container-id-3 div.sk-estimator input.sk-toggleable__control:checked~label.sk-toggleable__label {background-color: #d4ebff;}#sk-container-id-3 div.sk-label input.sk-toggleable__control:checked~label.sk-toggleable__label {background-color: #d4ebff;}#sk-container-id-3 input.sk-hidden--visually {border: 0;clip: rect(1px 1px 1px 1px);clip: rect(1px, 1px, 1px, 1px);height: 1px;margin: -1px;overflow: hidden;padding: 0;position: absolute;width: 1px;}#sk-container-id-3 div.sk-estimator {font-family: monospace;background-color: #f0f8ff;border: 1px dotted black;border-radius: 0.25em;box-sizing: border-box;margin-bottom: 0.5em;}#sk-container-id-3 div.sk-estimator:hover {background-color: #d4ebff;}#sk-container-id-3 div.sk-parallel-item::after {content: \"\";width: 100%;border-bottom: 1px solid gray;flex-grow: 1;}#sk-container-id-3 div.sk-label:hover label.sk-toggleable__label {background-color: #d4ebff;}#sk-container-id-3 div.sk-serial::before {content: \"\";position: absolute;border-left: 1px solid gray;box-sizing: border-box;top: 0;bottom: 0;left: 50%;z-index: 0;}#sk-container-id-3 div.sk-serial {display: flex;flex-direction: column;align-items: center;background-color: white;padding-right: 0.2em;padding-left: 0.2em;position: relative;}#sk-container-id-3 div.sk-item {position: relative;z-index: 1;}#sk-container-id-3 div.sk-parallel {display: flex;align-items: stretch;justify-content: center;background-color: white;position: relative;}#sk-container-id-3 div.sk-item::before, #sk-container-id-3 div.sk-parallel-item::before {content: \"\";position: absolute;border-left: 1px solid gray;box-sizing: border-box;top: 0;bottom: 0;left: 50%;z-index: -1;}#sk-container-id-3 div.sk-parallel-item {display: flex;flex-direction: column;z-index: 1;position: relative;background-color: white;}#sk-container-id-3 div.sk-parallel-item:first-child::after {align-self: flex-end;width: 50%;}#sk-container-id-3 div.sk-parallel-item:last-child::after {align-self: flex-start;width: 50%;}#sk-container-id-3 div.sk-parallel-item:only-child::after {width: 0;}#sk-container-id-3 div.sk-dashed-wrapped {border: 1px dashed gray;margin: 0 0.4em 0.5em 0.4em;box-sizing: border-box;padding-bottom: 0.4em;background-color: white;}#sk-container-id-3 div.sk-label label {font-family: monospace;font-weight: bold;display: inline-block;line-height: 1.2em;}#sk-container-id-3 div.sk-label-container {text-align: center;}#sk-container-id-3 div.sk-container {/* jupyter's `normalize.less` sets `[hidden] { display: none; }` but bootstrap.min.css set `[hidden] { display: none !important; }` so we also need the `!important` here to be able to override the default hidden behavior on the sphinx rendered scikit-learn.org. See: https://github.com/scikit-learn/scikit-learn/issues/21755 */display: inline-block !important;position: relative;}#sk-container-id-3 div.sk-text-repr-fallback {display: none;}</style><div id=\"sk-container-id-3\" class=\"sk-top-container\"><div class=\"sk-text-repr-fallback\"><pre>StackingClassifier(estimators=[(&#x27;lgbm&#x27;,\n",
       "                                Pipeline(steps=[(&#x27;pre_col2&#x27;,\n",
       "                                                 ColumnTransformer(remainder=&#x27;passthrough&#x27;,\n",
       "                                                                   transformers=[(&#x27;imputer&#x27;,\n",
       "                                                                                  SimpleImputer(),\n",
       "                                                                                  Index([&#x27;CNT_CHILDREN&#x27;, &#x27;AMT_INCOME_TOTAL&#x27;, &#x27;AMT_CREDIT&#x27;, &#x27;AMT_ANNUITY&#x27;,\n",
       "       &#x27;AMT_GOODS_PRICE&#x27;, &#x27;REGION_POPULATION_RELATIVE&#x27;, &#x27;DAYS_BIRTH&#x27;,\n",
       "       &#x27;DAYS_EMPLOYED&#x27;, &#x27;DAYS_REGISTRATION&#x27;, &#x27;DAYS_ID_PUBLISH&#x27;,\n",
       "       ...\n",
       "       &#x27;NAME_CONTRACT_...\n",
       "       &#x27;HOUSETYPE_MODE&#x27;, &#x27;WALLSMATERIAL_MODE&#x27;, &#x27;EMERGENCYSTATE_MODE&#x27;],\n",
       "      dtype=&#x27;object&#x27;))])),\n",
       "                                                (&#x27;hb&#x27;,\n",
       "                                                 HistGradientBoostingClassifier(class_weight={0: 1,\n",
       "                                                                                              1: 11.5},\n",
       "                                                                                l2_regularization=10,\n",
       "                                                                                learning_rate=0.08,\n",
       "                                                                                loss=&#x27;binary_crossentropy&#x27;,\n",
       "                                                                                max_depth=8,\n",
       "                                                                                max_iter=150,\n",
       "                                                                                scoring=&#x27;roc_auc&#x27;))]))],\n",
       "                   final_estimator=LGBMClassifier(class_weight={0: 0.08,\n",
       "                                                                1: 0.92},\n",
       "                                                  learning_rate=0.08,\n",
       "                                                  max_depth=10,\n",
       "                                                  n_estimators=150,\n",
       "                                                  num_leaves=15))</pre><b>In a Jupyter environment, please rerun this cell to show the HTML representation or trust the notebook. <br />On GitHub, the HTML representation is unable to render, please try loading this page with nbviewer.org.</b></div><div class=\"sk-container\" hidden><div class=\"sk-item sk-dashed-wrapped\"><div class=\"sk-label-container\"><div class=\"sk-label sk-toggleable\"><input class=\"sk-toggleable__control sk-hidden--visually\" id=\"sk-estimator-id-19\" type=\"checkbox\" ><label for=\"sk-estimator-id-19\" class=\"sk-toggleable__label sk-toggleable__label-arrow\">StackingClassifier</label><div class=\"sk-toggleable__content\"><pre>StackingClassifier(estimators=[(&#x27;lgbm&#x27;,\n",
       "                                Pipeline(steps=[(&#x27;pre_col2&#x27;,\n",
       "                                                 ColumnTransformer(remainder=&#x27;passthrough&#x27;,\n",
       "                                                                   transformers=[(&#x27;imputer&#x27;,\n",
       "                                                                                  SimpleImputer(),\n",
       "                                                                                  Index([&#x27;CNT_CHILDREN&#x27;, &#x27;AMT_INCOME_TOTAL&#x27;, &#x27;AMT_CREDIT&#x27;, &#x27;AMT_ANNUITY&#x27;,\n",
       "       &#x27;AMT_GOODS_PRICE&#x27;, &#x27;REGION_POPULATION_RELATIVE&#x27;, &#x27;DAYS_BIRTH&#x27;,\n",
       "       &#x27;DAYS_EMPLOYED&#x27;, &#x27;DAYS_REGISTRATION&#x27;, &#x27;DAYS_ID_PUBLISH&#x27;,\n",
       "       ...\n",
       "       &#x27;NAME_CONTRACT_...\n",
       "       &#x27;HOUSETYPE_MODE&#x27;, &#x27;WALLSMATERIAL_MODE&#x27;, &#x27;EMERGENCYSTATE_MODE&#x27;],\n",
       "      dtype=&#x27;object&#x27;))])),\n",
       "                                                (&#x27;hb&#x27;,\n",
       "                                                 HistGradientBoostingClassifier(class_weight={0: 1,\n",
       "                                                                                              1: 11.5},\n",
       "                                                                                l2_regularization=10,\n",
       "                                                                                learning_rate=0.08,\n",
       "                                                                                loss=&#x27;binary_crossentropy&#x27;,\n",
       "                                                                                max_depth=8,\n",
       "                                                                                max_iter=150,\n",
       "                                                                                scoring=&#x27;roc_auc&#x27;))]))],\n",
       "                   final_estimator=LGBMClassifier(class_weight={0: 0.08,\n",
       "                                                                1: 0.92},\n",
       "                                                  learning_rate=0.08,\n",
       "                                                  max_depth=10,\n",
       "                                                  n_estimators=150,\n",
       "                                                  num_leaves=15))</pre></div></div></div><div class=\"sk-serial\"><div class=\"sk-item\"><div class=\"sk-parallel\"><div class=\"sk-parallel-item\"><div class=\"sk-item\"><div class=\"sk-label-container\"><div class=\"sk-label sk-toggleable\"><label>lgbm</label></div></div><div class=\"sk-serial\"><div class=\"sk-item\"><div class=\"sk-serial\"><div class=\"sk-item sk-dashed-wrapped\"><div class=\"sk-label-container\"><div class=\"sk-label sk-toggleable\"><input class=\"sk-toggleable__control sk-hidden--visually\" id=\"sk-estimator-id-20\" type=\"checkbox\" ><label for=\"sk-estimator-id-20\" class=\"sk-toggleable__label sk-toggleable__label-arrow\">pre_col2: ColumnTransformer</label><div class=\"sk-toggleable__content\"><pre>ColumnTransformer(remainder=&#x27;passthrough&#x27;,\n",
       "                  transformers=[(&#x27;imputer&#x27;, SimpleImputer(),\n",
       "                                 Index([&#x27;CNT_CHILDREN&#x27;, &#x27;AMT_INCOME_TOTAL&#x27;, &#x27;AMT_CREDIT&#x27;, &#x27;AMT_ANNUITY&#x27;,\n",
       "       &#x27;AMT_GOODS_PRICE&#x27;, &#x27;REGION_POPULATION_RELATIVE&#x27;, &#x27;DAYS_BIRTH&#x27;,\n",
       "       &#x27;DAYS_EMPLOYED&#x27;, &#x27;DAYS_REGISTRATION&#x27;, &#x27;DAYS_ID_PUBLISH&#x27;,\n",
       "       ...\n",
       "       &#x27;NAME_CONTRACT_STATUS_Completed_prev&#x27;, &#x27;NAME_CONTRACT_STATUS_Demand&#x27;,\n",
       "       &#x27;NAME_CONTRACT...\n",
       "                                               handle_unknown=&#x27;ignore&#x27;),\n",
       "                                 Index([&#x27;NAME_CONTRACT_TYPE&#x27;, &#x27;CODE_GENDER&#x27;, &#x27;FLAG_OWN_CAR&#x27;, &#x27;FLAG_OWN_REALTY&#x27;,\n",
       "       &#x27;NAME_TYPE_SUITE&#x27;, &#x27;NAME_INCOME_TYPE&#x27;, &#x27;NAME_EDUCATION_TYPE&#x27;,\n",
       "       &#x27;NAME_FAMILY_STATUS&#x27;, &#x27;NAME_HOUSING_TYPE&#x27;, &#x27;OCCUPATION_TYPE&#x27;,\n",
       "       &#x27;WEEKDAY_APPR_PROCESS_START&#x27;, &#x27;ORGANIZATION_TYPE&#x27;, &#x27;FONDKAPREMONT_MODE&#x27;,\n",
       "       &#x27;HOUSETYPE_MODE&#x27;, &#x27;WALLSMATERIAL_MODE&#x27;, &#x27;EMERGENCYSTATE_MODE&#x27;],\n",
       "      dtype=&#x27;object&#x27;))])</pre></div></div></div><div class=\"sk-parallel\"><div class=\"sk-parallel-item\"><div class=\"sk-item\"><div class=\"sk-label-container\"><div class=\"sk-label sk-toggleable\"><input class=\"sk-toggleable__control sk-hidden--visually\" id=\"sk-estimator-id-21\" type=\"checkbox\" ><label for=\"sk-estimator-id-21\" class=\"sk-toggleable__label sk-toggleable__label-arrow\">imputer</label><div class=\"sk-toggleable__content\"><pre>Index([&#x27;CNT_CHILDREN&#x27;, &#x27;AMT_INCOME_TOTAL&#x27;, &#x27;AMT_CREDIT&#x27;, &#x27;AMT_ANNUITY&#x27;,\n",
       "       &#x27;AMT_GOODS_PRICE&#x27;, &#x27;REGION_POPULATION_RELATIVE&#x27;, &#x27;DAYS_BIRTH&#x27;,\n",
       "       &#x27;DAYS_EMPLOYED&#x27;, &#x27;DAYS_REGISTRATION&#x27;, &#x27;DAYS_ID_PUBLISH&#x27;,\n",
       "       ...\n",
       "       &#x27;NAME_CONTRACT_STATUS_Completed_prev&#x27;, &#x27;NAME_CONTRACT_STATUS_Demand&#x27;,\n",
       "       &#x27;NAME_CONTRACT_STATUS_Signed_prev&#x27;,\n",
       "       &#x27;NAME_CONTRACT_STATUS_Sent proposal&#x27;,\n",
       "       &#x27;NAME_CONTRACT_STATUS_Refused_credit&#x27;,\n",
       "       &#x27;NAME_CONTRACT_STATUS_Approved_credit&#x27;, &#x27;SK_DPD_max&#x27;, &#x27;SK_DPD_DEF_max&#x27;,\n",
       "       &#x27;DAY_DIFF&#x27;, &#x27;PAY_INSTALL_PROP&#x27;],\n",
       "      dtype=&#x27;object&#x27;, length=337)</pre></div></div></div><div class=\"sk-serial\"><div class=\"sk-item\"><div class=\"sk-estimator sk-toggleable\"><input class=\"sk-toggleable__control sk-hidden--visually\" id=\"sk-estimator-id-22\" type=\"checkbox\" ><label for=\"sk-estimator-id-22\" class=\"sk-toggleable__label sk-toggleable__label-arrow\">SimpleImputer</label><div class=\"sk-toggleable__content\"><pre>SimpleImputer()</pre></div></div></div></div></div></div><div class=\"sk-parallel-item\"><div class=\"sk-item\"><div class=\"sk-label-container\"><div class=\"sk-label sk-toggleable\"><input class=\"sk-toggleable__control sk-hidden--visually\" id=\"sk-estimator-id-23\" type=\"checkbox\" ><label for=\"sk-estimator-id-23\" class=\"sk-toggleable__label sk-toggleable__label-arrow\">ohe_rest</label><div class=\"sk-toggleable__content\"><pre>Index([&#x27;NAME_CONTRACT_TYPE&#x27;, &#x27;CODE_GENDER&#x27;, &#x27;FLAG_OWN_CAR&#x27;, &#x27;FLAG_OWN_REALTY&#x27;,\n",
       "       &#x27;NAME_TYPE_SUITE&#x27;, &#x27;NAME_INCOME_TYPE&#x27;, &#x27;NAME_EDUCATION_TYPE&#x27;,\n",
       "       &#x27;NAME_FAMILY_STATUS&#x27;, &#x27;NAME_HOUSING_TYPE&#x27;, &#x27;OCCUPATION_TYPE&#x27;,\n",
       "       &#x27;WEEKDAY_APPR_PROCESS_START&#x27;, &#x27;ORGANIZATION_TYPE&#x27;, &#x27;FONDKAPREMONT_MODE&#x27;,\n",
       "       &#x27;HOUSETYPE_MODE&#x27;, &#x27;WALLSMATERIAL_MODE&#x27;, &#x27;EMERGENCYSTATE_MODE&#x27;],\n",
       "      dtype=&#x27;object&#x27;)</pre></div></div></div><div class=\"sk-serial\"><div class=\"sk-item\"><div class=\"sk-estimator sk-toggleable\"><input class=\"sk-toggleable__control sk-hidden--visually\" id=\"sk-estimator-id-24\" type=\"checkbox\" ><label for=\"sk-estimator-id-24\" class=\"sk-toggleable__label sk-toggleable__label-arrow\">OneHotEncoder</label><div class=\"sk-toggleable__content\"><pre>OneHotEncoder(dtype=&#x27;int&#x27;, handle_unknown=&#x27;ignore&#x27;)</pre></div></div></div></div></div></div><div class=\"sk-parallel-item\"><div class=\"sk-item\"><div class=\"sk-label-container\"><div class=\"sk-label sk-toggleable\"><input class=\"sk-toggleable__control sk-hidden--visually\" id=\"sk-estimator-id-25\" type=\"checkbox\" ><label for=\"sk-estimator-id-25\" class=\"sk-toggleable__label sk-toggleable__label-arrow\">remainder</label><div class=\"sk-toggleable__content\"><pre>[]</pre></div></div></div><div class=\"sk-serial\"><div class=\"sk-item\"><div class=\"sk-estimator sk-toggleable\"><input class=\"sk-toggleable__control sk-hidden--visually\" id=\"sk-estimator-id-26\" type=\"checkbox\" ><label for=\"sk-estimator-id-26\" class=\"sk-toggleable__label sk-toggleable__label-arrow\">passthrough</label><div class=\"sk-toggleable__content\"><pre>passthrough</pre></div></div></div></div></div></div></div></div><div class=\"sk-item\"><div class=\"sk-estimator sk-toggleable\"><input class=\"sk-toggleable__control sk-hidden--visually\" id=\"sk-estimator-id-27\" type=\"checkbox\" ><label for=\"sk-estimator-id-27\" class=\"sk-toggleable__label sk-toggleable__label-arrow\">LGBMClassifier</label><div class=\"sk-toggleable__content\"><pre>LGBMClassifier(class_weight={0: 0.08, 1: 0.92}, learning_rate=0.06,\n",
       "               max_depth=10, n_estimators=200, num_leaves=15)</pre></div></div></div></div></div></div></div></div><div class=\"sk-parallel-item\"><div class=\"sk-item\"><div class=\"sk-label-container\"><div class=\"sk-label sk-toggleable\"><label>hgb</label></div></div><div class=\"sk-serial\"><div class=\"sk-item\"><div class=\"sk-serial\"><div class=\"sk-item sk-dashed-wrapped\"><div class=\"sk-label-container\"><div class=\"sk-label sk-toggleable\"><input class=\"sk-toggleable__control sk-hidden--visually\" id=\"sk-estimator-id-28\" type=\"checkbox\" ><label for=\"sk-estimator-id-28\" class=\"sk-toggleable__label sk-toggleable__label-arrow\">pre_col: ColumnTransformer</label><div class=\"sk-toggleable__content\"><pre>ColumnTransformer(remainder=&#x27;passthrough&#x27;,\n",
       "                  transformers=[(&#x27;imputer&#x27;, SimpleImputer(),\n",
       "                                 Index([&#x27;CNT_CHILDREN&#x27;, &#x27;AMT_INCOME_TOTAL&#x27;, &#x27;AMT_CREDIT&#x27;, &#x27;AMT_ANNUITY&#x27;,\n",
       "       &#x27;AMT_GOODS_PRICE&#x27;, &#x27;REGION_POPULATION_RELATIVE&#x27;, &#x27;DAYS_BIRTH&#x27;,\n",
       "       &#x27;DAYS_EMPLOYED&#x27;, &#x27;DAYS_REGISTRATION&#x27;, &#x27;DAYS_ID_PUBLISH&#x27;,\n",
       "       ...\n",
       "       &#x27;NAME_CONTRACT_STATUS_Completed_prev&#x27;, &#x27;NAME_CONTRACT_STATUS_Demand&#x27;,\n",
       "       &#x27;NAME_CONTRACT...\n",
       "                                               handle_unknown=&#x27;ignore&#x27;),\n",
       "                                 Index([&#x27;NAME_CONTRACT_TYPE&#x27;, &#x27;CODE_GENDER&#x27;, &#x27;FLAG_OWN_CAR&#x27;, &#x27;FLAG_OWN_REALTY&#x27;,\n",
       "       &#x27;NAME_TYPE_SUITE&#x27;, &#x27;NAME_INCOME_TYPE&#x27;, &#x27;NAME_EDUCATION_TYPE&#x27;,\n",
       "       &#x27;NAME_FAMILY_STATUS&#x27;, &#x27;NAME_HOUSING_TYPE&#x27;, &#x27;OCCUPATION_TYPE&#x27;,\n",
       "       &#x27;WEEKDAY_APPR_PROCESS_START&#x27;, &#x27;ORGANIZATION_TYPE&#x27;, &#x27;FONDKAPREMONT_MODE&#x27;,\n",
       "       &#x27;HOUSETYPE_MODE&#x27;, &#x27;WALLSMATERIAL_MODE&#x27;, &#x27;EMERGENCYSTATE_MODE&#x27;],\n",
       "      dtype=&#x27;object&#x27;))])</pre></div></div></div><div class=\"sk-parallel\"><div class=\"sk-parallel-item\"><div class=\"sk-item\"><div class=\"sk-label-container\"><div class=\"sk-label sk-toggleable\"><input class=\"sk-toggleable__control sk-hidden--visually\" id=\"sk-estimator-id-29\" type=\"checkbox\" ><label for=\"sk-estimator-id-29\" class=\"sk-toggleable__label sk-toggleable__label-arrow\">imputer</label><div class=\"sk-toggleable__content\"><pre>Index([&#x27;CNT_CHILDREN&#x27;, &#x27;AMT_INCOME_TOTAL&#x27;, &#x27;AMT_CREDIT&#x27;, &#x27;AMT_ANNUITY&#x27;,\n",
       "       &#x27;AMT_GOODS_PRICE&#x27;, &#x27;REGION_POPULATION_RELATIVE&#x27;, &#x27;DAYS_BIRTH&#x27;,\n",
       "       &#x27;DAYS_EMPLOYED&#x27;, &#x27;DAYS_REGISTRATION&#x27;, &#x27;DAYS_ID_PUBLISH&#x27;,\n",
       "       ...\n",
       "       &#x27;NAME_CONTRACT_STATUS_Completed_prev&#x27;, &#x27;NAME_CONTRACT_STATUS_Demand&#x27;,\n",
       "       &#x27;NAME_CONTRACT_STATUS_Signed_prev&#x27;,\n",
       "       &#x27;NAME_CONTRACT_STATUS_Sent proposal&#x27;,\n",
       "       &#x27;NAME_CONTRACT_STATUS_Refused_credit&#x27;,\n",
       "       &#x27;NAME_CONTRACT_STATUS_Approved_credit&#x27;, &#x27;SK_DPD_max&#x27;, &#x27;SK_DPD_DEF_max&#x27;,\n",
       "       &#x27;DAY_DIFF&#x27;, &#x27;PAY_INSTALL_PROP&#x27;],\n",
       "      dtype=&#x27;object&#x27;, length=337)</pre></div></div></div><div class=\"sk-serial\"><div class=\"sk-item\"><div class=\"sk-estimator sk-toggleable\"><input class=\"sk-toggleable__control sk-hidden--visually\" id=\"sk-estimator-id-30\" type=\"checkbox\" ><label for=\"sk-estimator-id-30\" class=\"sk-toggleable__label sk-toggleable__label-arrow\">SimpleImputer</label><div class=\"sk-toggleable__content\"><pre>SimpleImputer()</pre></div></div></div></div></div></div><div class=\"sk-parallel-item\"><div class=\"sk-item\"><div class=\"sk-label-container\"><div class=\"sk-label sk-toggleable\"><input class=\"sk-toggleable__control sk-hidden--visually\" id=\"sk-estimator-id-31\" type=\"checkbox\" ><label for=\"sk-estimator-id-31\" class=\"sk-toggleable__label sk-toggleable__label-arrow\">ohe_rest</label><div class=\"sk-toggleable__content\"><pre>Index([&#x27;NAME_CONTRACT_TYPE&#x27;, &#x27;CODE_GENDER&#x27;, &#x27;FLAG_OWN_CAR&#x27;, &#x27;FLAG_OWN_REALTY&#x27;,\n",
       "       &#x27;NAME_TYPE_SUITE&#x27;, &#x27;NAME_INCOME_TYPE&#x27;, &#x27;NAME_EDUCATION_TYPE&#x27;,\n",
       "       &#x27;NAME_FAMILY_STATUS&#x27;, &#x27;NAME_HOUSING_TYPE&#x27;, &#x27;OCCUPATION_TYPE&#x27;,\n",
       "       &#x27;WEEKDAY_APPR_PROCESS_START&#x27;, &#x27;ORGANIZATION_TYPE&#x27;, &#x27;FONDKAPREMONT_MODE&#x27;,\n",
       "       &#x27;HOUSETYPE_MODE&#x27;, &#x27;WALLSMATERIAL_MODE&#x27;, &#x27;EMERGENCYSTATE_MODE&#x27;],\n",
       "      dtype=&#x27;object&#x27;)</pre></div></div></div><div class=\"sk-serial\"><div class=\"sk-item\"><div class=\"sk-estimator sk-toggleable\"><input class=\"sk-toggleable__control sk-hidden--visually\" id=\"sk-estimator-id-32\" type=\"checkbox\" ><label for=\"sk-estimator-id-32\" class=\"sk-toggleable__label sk-toggleable__label-arrow\">OneHotEncoder</label><div class=\"sk-toggleable__content\"><pre>OneHotEncoder(dtype=&#x27;int&#x27;, handle_unknown=&#x27;ignore&#x27;)</pre></div></div></div></div></div></div><div class=\"sk-parallel-item\"><div class=\"sk-item\"><div class=\"sk-label-container\"><div class=\"sk-label sk-toggleable\"><input class=\"sk-toggleable__control sk-hidden--visually\" id=\"sk-estimator-id-33\" type=\"checkbox\" ><label for=\"sk-estimator-id-33\" class=\"sk-toggleable__label sk-toggleable__label-arrow\">remainder</label><div class=\"sk-toggleable__content\"><pre>[]</pre></div></div></div><div class=\"sk-serial\"><div class=\"sk-item\"><div class=\"sk-estimator sk-toggleable\"><input class=\"sk-toggleable__control sk-hidden--visually\" id=\"sk-estimator-id-34\" type=\"checkbox\" ><label for=\"sk-estimator-id-34\" class=\"sk-toggleable__label sk-toggleable__label-arrow\">passthrough</label><div class=\"sk-toggleable__content\"><pre>passthrough</pre></div></div></div></div></div></div></div></div><div class=\"sk-item\"><div class=\"sk-estimator sk-toggleable\"><input class=\"sk-toggleable__control sk-hidden--visually\" id=\"sk-estimator-id-35\" type=\"checkbox\" ><label for=\"sk-estimator-id-35\" class=\"sk-toggleable__label sk-toggleable__label-arrow\">HistGradientBoostingClassifier</label><div class=\"sk-toggleable__content\"><pre>HistGradientBoostingClassifier(class_weight={0: 1, 1: 11.5},\n",
       "                               l2_regularization=10, learning_rate=0.08,\n",
       "                               loss=&#x27;binary_crossentropy&#x27;, max_depth=8,\n",
       "                               max_iter=150, scoring=&#x27;roc_auc&#x27;)</pre></div></div></div></div></div></div></div></div></div></div><div class=\"sk-item\"><div class=\"sk-parallel\"><div class=\"sk-parallel-item\"><div class=\"sk-item\"><div class=\"sk-label-container\"><div class=\"sk-label sk-toggleable\"><label>final_estimator</label></div></div><div class=\"sk-serial\"><div class=\"sk-item\"><div class=\"sk-estimator sk-toggleable\"><input class=\"sk-toggleable__control sk-hidden--visually\" id=\"sk-estimator-id-36\" type=\"checkbox\" ><label for=\"sk-estimator-id-36\" class=\"sk-toggleable__label sk-toggleable__label-arrow\">LGBMClassifier</label><div class=\"sk-toggleable__content\"><pre>LGBMClassifier(class_weight={0: 0.08, 1: 0.92}, learning_rate=0.08,\n",
       "               max_depth=10, n_estimators=150, num_leaves=15)</pre></div></div></div></div></div></div></div></div></div></div></div></div>"
      ],
      "text/plain": [
       "StackingClassifier(estimators=[('lgbm',\n",
       "                                Pipeline(steps=[('pre_col2',\n",
       "                                                 ColumnTransformer(remainder='passthrough',\n",
       "                                                                   transformers=[('imputer',\n",
       "                                                                                  SimpleImputer(),\n",
       "                                                                                  Index(['CNT_CHILDREN', 'AMT_INCOME_TOTAL', 'AMT_CREDIT', 'AMT_ANNUITY',\n",
       "       'AMT_GOODS_PRICE', 'REGION_POPULATION_RELATIVE', 'DAYS_BIRTH',\n",
       "       'DAYS_EMPLOYED', 'DAYS_REGISTRATION', 'DAYS_ID_PUBLISH',\n",
       "       ...\n",
       "       'NAME_CONTRACT_...\n",
       "       'HOUSETYPE_MODE', 'WALLSMATERIAL_MODE', 'EMERGENCYSTATE_MODE'],\n",
       "      dtype='object'))])),\n",
       "                                                ('hb',\n",
       "                                                 HistGradientBoostingClassifier(class_weight={0: 1,\n",
       "                                                                                              1: 11.5},\n",
       "                                                                                l2_regularization=10,\n",
       "                                                                                learning_rate=0.08,\n",
       "                                                                                loss='binary_crossentropy',\n",
       "                                                                                max_depth=8,\n",
       "                                                                                max_iter=150,\n",
       "                                                                                scoring='roc_auc'))]))],\n",
       "                   final_estimator=LGBMClassifier(class_weight={0: 0.08,\n",
       "                                                                1: 0.92},\n",
       "                                                  learning_rate=0.08,\n",
       "                                                  max_depth=10,\n",
       "                                                  n_estimators=150,\n",
       "                                                  num_leaves=15))"
      ]
     },
     "execution_count": 85,
     "metadata": {},
     "output_type": "execute_result"
    }
   ],
   "source": [
    "reg2.fit(X_train2.replace([np.inf, -np.inf], np.nan), y_train)"
   ]
  },
  {
   "cell_type": "code",
   "execution_count": 87,
   "id": "8883f284",
   "metadata": {},
   "outputs": [],
   "source": [
    "#reg2.predict(X_test2.replace([np.inf, -np.inf], np.nan)).sum()"
   ]
  },
  {
   "cell_type": "code",
   "execution_count": 89,
   "id": "934ec0b9",
   "metadata": {},
   "outputs": [],
   "source": [
    "#roc_auc_score(y_test, reg2.predict(X_test2))\n",
    "# best 0.702, mostly 0.701+"
   ]
  },
  {
   "cell_type": "code",
   "execution_count": null,
   "id": "0d66cc5f",
   "metadata": {},
   "outputs": [],
   "source": []
  }
 ],
 "metadata": {},
 "nbformat": 4,
 "nbformat_minor": 5
}
